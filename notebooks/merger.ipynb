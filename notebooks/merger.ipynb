{
 "cells": [
  {
   "cell_type": "code",
   "execution_count": 1,
   "metadata": {},
   "outputs": [],
   "source": [
    "import pandas as pd "
   ]
  },
  {
   "cell_type": "code",
   "execution_count": 4,
   "metadata": {},
   "outputs": [],
   "source": [
    "df1 = pd.read_csv('D:\\Programming\\Projects\\major_project\\Codes\\ASR\\data\\\\ne-np\\\\transcript\\\\ne_np_female.csv')\n",
    "df2 = pd.read_csv('D:\\Programming\\Projects\\major_project\\Codes\\ASR\\\\data\\\\5k\\\\transcript\\\\dataset_cleaned_5k.csv',usecols=['filename','text'])\n",
    "df2.rename(columns={\"filename\": \"path\",\"text\":'labels'}, inplace=True)"
   ]
  },
  {
   "cell_type": "code",
   "execution_count": 5,
   "metadata": {},
   "outputs": [
    {
     "data": {
      "text/plain": [
       "(6788, 2)"
      ]
     },
     "execution_count": 5,
     "metadata": {},
     "output_type": "execute_result"
    }
   ],
   "source": [
    "df_merged = pd.concat([df1,df2])\n",
    "df_merged.shape "
   ]
  },
  {
   "cell_type": "code",
   "execution_count": 6,
   "metadata": {},
   "outputs": [],
   "source": [
    "df_merged.to_csv('D:\\Programming\\Projects\\major_project\\Codes\\ASR\\\\data\\\\merged-7k\\\\transcript\\\\dataset_merged_7k.csv',index=False)"
   ]
  },
  {
   "cell_type": "code",
   "execution_count": 7,
   "metadata": {},
   "outputs": [
    {
     "data": {
      "text/html": [
       "<div>\n",
       "<style scoped>\n",
       "    .dataframe tbody tr th:only-of-type {\n",
       "        vertical-align: middle;\n",
       "    }\n",
       "\n",
       "    .dataframe tbody tr th {\n",
       "        vertical-align: top;\n",
       "    }\n",
       "\n",
       "    .dataframe thead th {\n",
       "        text-align: right;\n",
       "    }\n",
       "</style>\n",
       "<table border=\"1\" class=\"dataframe\">\n",
       "  <thead>\n",
       "    <tr style=\"text-align: right;\">\n",
       "      <th></th>\n",
       "      <th>filename</th>\n",
       "      <th>text</th>\n",
       "      <th>total</th>\n",
       "    </tr>\n",
       "  </thead>\n",
       "  <tbody>\n",
       "    <tr>\n",
       "      <th>0</th>\n",
       "      <td>67b521143c</td>\n",
       "      <td>उपप्रधान तथा गृहमन्त्री विजयकुमार गच्छदारद्वार...</td>\n",
       "      <td>129</td>\n",
       "    </tr>\n",
       "    <tr>\n",
       "      <th>1</th>\n",
       "      <td>24efa9f33c</td>\n",
       "      <td>तृतीय श्रेणीबाट शिक्षा लिने स्थानीय र अन्तर्रा...</td>\n",
       "      <td>128</td>\n",
       "    </tr>\n",
       "    <tr>\n",
       "      <th>2</th>\n",
       "      <td>f0ad56c4f7</td>\n",
       "      <td>मध्यम पुरुषवाचक सर्वनाम जुन सर्वनामको प्रयोग ब...</td>\n",
       "      <td>117</td>\n",
       "    </tr>\n",
       "    <tr>\n",
       "      <th>3</th>\n",
       "      <td>b36a1404bb</td>\n",
       "      <td>अमेरिकी सेनाका एसिया प्यासिफिक क्षेत्रका कमान्...</td>\n",
       "      <td>115</td>\n",
       "    </tr>\n",
       "    <tr>\n",
       "      <th>4</th>\n",
       "      <td>60c61ae000</td>\n",
       "      <td>गेदले फ्रान्समा मार्क्सवादी विचारधाराको प्रचार...</td>\n",
       "      <td>114</td>\n",
       "    </tr>\n",
       "  </tbody>\n",
       "</table>\n",
       "</div>"
      ],
      "text/plain": [
       "     filename                                               text  total\n",
       "0  67b521143c  उपप्रधान तथा गृहमन्त्री विजयकुमार गच्छदारद्वार...    129\n",
       "1  24efa9f33c  तृतीय श्रेणीबाट शिक्षा लिने स्थानीय र अन्तर्रा...    128\n",
       "2  f0ad56c4f7  मध्यम पुरुषवाचक सर्वनाम जुन सर्वनामको प्रयोग ब...    117\n",
       "3  b36a1404bb  अमेरिकी सेनाका एसिया प्यासिफिक क्षेत्रका कमान्...    115\n",
       "4  60c61ae000  गेदले फ्रान्समा मार्क्सवादी विचारधाराको प्रचार...    114"
      ]
     },
     "execution_count": 7,
     "metadata": {},
     "output_type": "execute_result"
    }
   ],
   "source": [
    "df_all = pd.read_csv('D:\\Programming\\Projects\\major_project\\Codes\\ASR\\\\data_old\\\\transcript\\\\dataset_cleaned_v1.csv')\n",
    "df_all.head()"
   ]
  },
  {
   "cell_type": "code",
   "execution_count": 21,
   "metadata": {},
   "outputs": [],
   "source": [
    "def make_csv(start,end):\n",
    "    base_transcript_path = 'D:\\Programming\\Projects\\major_project\\Codes\\ASR\\\\data_old\\\\transcript'\n",
    "    no_of_files = df_all[(df_all['total'] >= start) & (df_all['total'] < end)].shape[0]\n",
    "    print(f'There will be {no_of_files}.\\nAre you sure to continue? (y/N) 🧐')\n",
    "    ans = input('=>').lower()\n",
    "    if ans == 'y':\n",
    "        df_all[(df_all['total'] >= start) & (df_all['total'] < end)].to_csv(base_transcript_path+f'/dataset_cleaned_{no_of_files}_{start}_{end}.csv',index=False)\n",
    "        print('CSV file was created 🤑')\n",
    "        return \n",
    "    print('No files were created 😪')\n"
   ]
  },
  {
   "cell_type": "code",
   "execution_count": 45,
   "metadata": {},
   "outputs": [
    {
     "name": "stdout",
     "output_type": "stream",
     "text": [
      "There will be 4297.\n",
      "Are you sure to continue? (y/N) 🧐\n",
      "CSV file was created 🤑\n"
     ]
    }
   ],
   "source": [
    "start=int(input('Enter Starting Position: '))\n",
    "end=int(input('Enter Ending Position: '))\n",
    "make_csv(start,end)"
   ]
  },
  {
   "cell_type": "code",
   "execution_count": null,
   "metadata": {},
   "outputs": [],
   "source": []
  }
 ],
 "metadata": {
  "kernelspec": {
   "display_name": "Python 3.8.5 ('.aivenv')",
   "language": "python",
   "name": "python3"
  },
  "language_info": {
   "codemirror_mode": {
    "name": "ipython",
    "version": 3
   },
   "file_extension": ".py",
   "mimetype": "text/x-python",
   "name": "python",
   "nbconvert_exporter": "python",
   "pygments_lexer": "ipython3",
   "version": "3.8.5"
  },
  "orig_nbformat": 4,
  "vscode": {
   "interpreter": {
    "hash": "a6aa66c812e617fe7a976665f04a60359ca2a7b0fa520cb928d0804dda4cd71e"
   }
  }
 },
 "nbformat": 4,
 "nbformat_minor": 2
}
