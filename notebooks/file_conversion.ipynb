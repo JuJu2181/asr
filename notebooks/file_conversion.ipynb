{
 "cells": [
  {
   "cell_type": "code",
   "execution_count": 1,
   "metadata": {},
   "outputs": [],
   "source": [
    "import os \n",
    "import shutil\n",
    "import subprocess"
   ]
  },
  {
   "cell_type": "code",
   "execution_count": 6,
   "metadata": {},
   "outputs": [
    {
     "data": {
      "text/plain": [
       "['0000c0f43b.flac',\n",
       " '00014b6780.flac',\n",
       " '0001b0e4b4.flac',\n",
       " '0001cf394a.flac',\n",
       " '00024e9ee7.flac',\n",
       " '0002f96e3e.flac',\n",
       " '00033e7a6c.flac',\n",
       " '0003991b47.flac',\n",
       " '000414cbb9.flac',\n",
       " '00045ee2e0.flac']"
      ]
     },
     "execution_count": 6,
     "metadata": {},
     "output_type": "execute_result"
    }
   ],
   "source": [
    "files = os.listdir('./data/audio/')\n",
    "files_l = files[:10]\n",
    "files_l"
   ]
  },
  {
   "cell_type": "code",
   "execution_count": 15,
   "metadata": {},
   "outputs": [
    {
     "name": "stdout",
     "output_type": "stream",
     "text": [
      "0 0000c0f43b.flac\n",
      "1 00014b6780.flac\n",
      "2 0001b0e4b4.flac\n",
      "3 0001cf394a.flac\n",
      "4 00024e9ee7.flac\n",
      "5 0002f96e3e.flac\n",
      "6 00033e7a6c.flac\n",
      "7 0003991b47.flac\n",
      "8 000414cbb9.flac\n",
      "9 00045ee2e0.flac\n"
     ]
    }
   ],
   "source": [
    "for idx,f in enumerate(files_l):\n",
    "    print(idx,f)"
   ]
  },
  {
   "cell_type": "code",
   "execution_count": 2,
   "metadata": {},
   "outputs": [],
   "source": [
    "def convertAudio(ip_format=\"flac\",op_format=\"wav\"):\n",
    "    ip_dir_path = input('Input Directory Path: ')\n",
    "    op_dir_path = input('Output Directory Path: ')\n",
    "    files = os.listdir(ip_dir_path)\n",
    "    print('=>Conversion Started')\n",
    "    for idx,f in enumerate(files):\n",
    "        filename,ext = os.path.splitext(f)\n",
    "        if ext != f'.{ip_format}': continue\n",
    "        command = f'ffmpeg -i {ip_dir_path}/{filename}.{ip_format} {op_dir_path}/{filename}.{op_format}'\n",
    "        subprocess.call(command,shell=True)\n",
    "        if idx != 0 and idx%5000==0:\n",
    "            print(f'=>Completed {idx} files')\n",
    "    print('=>Conversion Complete')"
   ]
  },
  {
   "cell_type": "code",
   "execution_count": 4,
   "metadata": {},
   "outputs": [
    {
     "name": "stdout",
     "output_type": "stream",
     "text": [
      "=>Conversion Started\n",
      "=>Conversion Complete\n"
     ]
    }
   ],
   "source": [
    "convertAudio(\"wav\",\"flac\")"
   ]
  },
  {
   "cell_type": "code",
   "execution_count": 8,
   "metadata": {},
   "outputs": [
    {
     "name": "stderr",
     "output_type": "stream",
     "text": [
      "ffmpeg version 4.2.3 Copyright (c) 2000-2020 the FFmpeg developers\n",
      "  built with gcc 11.2.0 (GCC)\n",
      "  configuration: --cross-prefix=x86_64-w64-mingw32- --enable-cross-compile --target-os=mingw32 --arch=x86_64 --prefix=/scratch/build/mxe-octave-w64/release/usr/x86_64-w64-mingw32 --enable-shared --disable-static --yasmexe=/scratch/build/mxe-octave-w64/release/usr/bin/yasm --extra-libs=-mconsole --disable-debug --disable-doc --enable-avresample --enable-gpl --enable-version3 --disable-pthreads --enable-w32threads --enable-avisynth --enable-gnutls --enable-libspeex --enable-libtheora --enable-libvorbis --enable-libmp3lame --enable-libxvid --enable-libopencore-amrnb --enable-libopencore-amrwb --enable-libx264 --enable-libvpx\n",
      "  libavutil      56. 31.100 / 56. 31.100\n",
      "  libavcodec     58. 54.100 / 58. 54.100\n",
      "  libavformat    58. 29.100 / 58. 29.100\n",
      "  libavdevice    58.  8.100 / 58.  8.100\n",
      "  libavfilter     7. 57.100 /  7. 57.100\n",
      "  libavresample   4.  0.  0 /  4.  0.  0\n",
      "  libswscale      5.  5.100 /  5.  5.100\n",
      "  libswresample   3.  5.100 /  3.  5.100\n",
      "  libpostproc    55.  5.100 / 55.  5.100\n",
      "Input #0, flac, from './data/audio/0000c0f43b.flac':\n",
      "  Duration: 00:00:03.00, start: 0.000000, bitrate: 140 kb/s\n",
      "    Stream #0:0: Audio: flac, 16000 Hz, mono, s16\n",
      "Stream mapping:\n",
      "  Stream #0:0 -> #0:0 (flac (native) -> pcm_s16le (native))\n",
      "Press [q] to stop, [?] for help\n",
      "Output #0, wav, to './data/audio_wav/out.wav':\n",
      "  Metadata:\n",
      "    ISFT            : Lavf58.29.100\n",
      "    Stream #0:0: Audio: pcm_s16le ([1][0][0][0] / 0x0001), 16000 Hz, mono, s16, 256 kb/s\n",
      "    Metadata:\n",
      "      encoder         : Lavc58.54.100 pcm_s16le\n",
      "size=      94kB time=00:00:03.00 bitrate= 256.2kbits/s speed= 222x    \n",
      "video:0kB audio:94kB subtitle:0kB other streams:0kB global headers:0kB muxing overhead: 0.081250%\n"
     ]
    }
   ],
   "source": [
    "!ffmpeg -i ./data/audio/0000c0f43b.flac ./data/audio_wav/out.wav"
   ]
  },
  {
   "cell_type": "code",
   "execution_count": null,
   "metadata": {},
   "outputs": [],
   "source": []
  }
 ],
 "metadata": {
  "kernelspec": {
   "display_name": "Python 3.8.5 ('.aivenv')",
   "language": "python",
   "name": "python3"
  },
  "language_info": {
   "codemirror_mode": {
    "name": "ipython",
    "version": 3
   },
   "file_extension": ".py",
   "mimetype": "text/x-python",
   "name": "python",
   "nbconvert_exporter": "python",
   "pygments_lexer": "ipython3",
   "version": "3.8.5"
  },
  "orig_nbformat": 4,
  "vscode": {
   "interpreter": {
    "hash": "a6aa66c812e617fe7a976665f04a60359ca2a7b0fa520cb928d0804dda4cd71e"
   }
  }
 },
 "nbformat": 4,
 "nbformat_minor": 2
}
