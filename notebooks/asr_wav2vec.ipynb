{
  "cells": [
    {
      "cell_type": "markdown",
      "metadata": {},
      "source": [
        "This was test for wav2vec but started consuming more ram and got too many errors"
      ]
    },
    {
      "cell_type": "code",
      "execution_count": 57,
      "metadata": {
        "id": "bM5bnYqvPkhI"
      },
      "outputs": [],
      "source": [
        "import os\n",
        "\n",
        "import torch\n",
        "from torch._C import device\n",
        "\n",
        "from torch.utils.data import Dataset\n",
        "import pandas as pd\n",
        "import torchaudio\n",
        "import torch.nn as nn\n",
        "import torch.optim as optim\n",
        "import torch.functional as F\n",
        "import json\n",
        "from sklearn.model_selection import train_test_split"
      ]
    },
    {
      "cell_type": "code",
      "execution_count": 58,
      "metadata": {},
      "outputs": [],
      "source": [
        "RANDOM_STATE = 42\n",
        "TEST_RATIO = 0.3\n",
        "DATA_PATH = 'D:\\Programming\\Projects\\major_project\\Dataset\\ASR/asr_dataset1.csv'\n",
        "VOCAB_PATH = \"D:\\Programming\\Projects\\major_project\\Dataset\\ASR/vocab.json\"\n",
        "MODEL_PATH = \"D:\\Programming\\Projects\\major_project\\Outputs\\ASR\""
      ]
    },
    {
      "cell_type": "code",
      "execution_count": 59,
      "metadata": {
        "colab": {
          "base_uri": "https://localhost:8080/"
        },
        "id": "HORRCgzcQQ9C",
        "outputId": "188643bf-4702-4e2b-a899-030a4c2d487a"
      },
      "outputs": [],
      "source": [
        "# from google.colab import drive\n",
        "# drive.mount('/content/gdrive')"
      ]
    },
    {
      "cell_type": "code",
      "execution_count": 60,
      "metadata": {
        "colab": {
          "base_uri": "https://localhost:8080/",
          "height": 424
        },
        "id": "5X9FLNWe0k2h",
        "outputId": "45d5a09b-d513-45b0-8a2f-8bd082cd71ee"
      },
      "outputs": [
        {
          "data": {
            "text/html": [
              "<div>\n",
              "<style scoped>\n",
              "    .dataframe tbody tr th:only-of-type {\n",
              "        vertical-align: middle;\n",
              "    }\n",
              "\n",
              "    .dataframe tbody tr th {\n",
              "        vertical-align: top;\n",
              "    }\n",
              "\n",
              "    .dataframe thead th {\n",
              "        text-align: right;\n",
              "    }\n",
              "</style>\n",
              "<table border=\"1\" class=\"dataframe\">\n",
              "  <thead>\n",
              "    <tr style=\"text-align: right;\">\n",
              "      <th></th>\n",
              "      <th>Unnamed: 0</th>\n",
              "      <th>filename</th>\n",
              "      <th>filepath</th>\n",
              "      <th>id</th>\n",
              "      <th>labels</th>\n",
              "    </tr>\n",
              "  </thead>\n",
              "  <tbody>\n",
              "    <tr>\n",
              "      <th>0</th>\n",
              "      <td>0</td>\n",
              "      <td>0000c0f43b</td>\n",
              "      <td>Dataset/ASR/openslr/00/0000c0f43b.flac</td>\n",
              "      <td>5bc3b</td>\n",
              "      <td>अवस्थालाई ज्योतिषमा</td>\n",
              "    </tr>\n",
              "    <tr>\n",
              "      <th>1</th>\n",
              "      <td>1</td>\n",
              "      <td>00014b6780</td>\n",
              "      <td>Dataset/ASR/openslr/00/00014b6780.flac</td>\n",
              "      <td>c7f92</td>\n",
              "      <td>पूर्वक पूजा आराधना</td>\n",
              "    </tr>\n",
              "    <tr>\n",
              "      <th>2</th>\n",
              "      <td>2</td>\n",
              "      <td>0001b0e4b4</td>\n",
              "      <td>Dataset/ASR/openslr/00/0001b0e4b4.flac</td>\n",
              "      <td>693c5</td>\n",
              "      <td>बनेको कुचो</td>\n",
              "    </tr>\n",
              "    <tr>\n",
              "      <th>3</th>\n",
              "      <td>3</td>\n",
              "      <td>0001cf394a</td>\n",
              "      <td>Dataset/ASR/openslr/00/0001cf394a.flac</td>\n",
              "      <td>b66ee</td>\n",
              "      <td>प्रकाश पार्न उपमा</td>\n",
              "    </tr>\n",
              "    <tr>\n",
              "      <th>4</th>\n",
              "      <td>4</td>\n",
              "      <td>00024e9ee7</td>\n",
              "      <td>Dataset/ASR/openslr/00/00024e9ee7.flac</td>\n",
              "      <td>79c24</td>\n",
              "      <td>दुष्यन्तका नजिक पुग्दछन्</td>\n",
              "    </tr>\n",
              "  </tbody>\n",
              "</table>\n",
              "</div>"
            ],
            "text/plain": [
              "   Unnamed: 0    filename                                filepath     id  \\\n",
              "0           0  0000c0f43b  Dataset/ASR/openslr/00/0000c0f43b.flac  5bc3b   \n",
              "1           1  00014b6780  Dataset/ASR/openslr/00/00014b6780.flac  c7f92   \n",
              "2           2  0001b0e4b4  Dataset/ASR/openslr/00/0001b0e4b4.flac  693c5   \n",
              "3           3  0001cf394a  Dataset/ASR/openslr/00/0001cf394a.flac  b66ee   \n",
              "4           4  00024e9ee7  Dataset/ASR/openslr/00/00024e9ee7.flac  79c24   \n",
              "\n",
              "                     labels  \n",
              "0       अवस्थालाई ज्योतिषमा  \n",
              "1        पूर्वक पूजा आराधना  \n",
              "2                बनेको कुचो  \n",
              "3         प्रकाश पार्न उपमा  \n",
              "4  दुष्यन्तका नजिक पुग्दछन्  "
            ]
          },
          "execution_count": 60,
          "metadata": {},
          "output_type": "execute_result"
        }
      ],
      "source": [
        "df = pd.read_csv(DATA_PATH)\n",
        "df.head()"
      ]
    },
    {
      "cell_type": "code",
      "execution_count": 61,
      "metadata": {},
      "outputs": [],
      "source": [
        "train_dataset, test_dataset = train_test_split(df,test_size=TEST_RATIO, random_state=RANDOM_STATE)"
      ]
    },
    {
      "cell_type": "code",
      "execution_count": 62,
      "metadata": {},
      "outputs": [
        {
          "data": {
            "text/plain": [
              "(104991, 5)"
            ]
          },
          "execution_count": 62,
          "metadata": {},
          "output_type": "execute_result"
        }
      ],
      "source": [
        "train_dataset.shape"
      ]
    },
    {
      "cell_type": "code",
      "execution_count": 63,
      "metadata": {},
      "outputs": [
        {
          "data": {
            "text/plain": [
              "(44997, 5)"
            ]
          },
          "execution_count": 63,
          "metadata": {},
          "output_type": "execute_result"
        }
      ],
      "source": [
        "test_dataset.shape"
      ]
    },
    {
      "cell_type": "code",
      "execution_count": 64,
      "metadata": {},
      "outputs": [],
      "source": [
        "train_df_1 = train_dataset[0:2000]\n",
        "\n",
        "train_df_2 = train_dataset[2000:4000]\n",
        "\n",
        "train_df_3 = train_dataset[4000:6000]\n",
        "\n",
        "train_df_4 =  train_dataset[6000:8000]\n",
        "\n",
        "train_df_5 = train_dataset[8000:10000]\n",
        "\n",
        "test_df = test_dataset[0:2000]"
      ]
    },
    {
      "cell_type": "code",
      "execution_count": 73,
      "metadata": {},
      "outputs": [],
      "source": [
        "from datasets import Dataset, load_metric\n",
        "\n",
        "train_data_1 = Dataset.from_pandas(train_df_1)\n",
        "train_data_2 = Dataset.from_pandas(train_df_2)\n",
        "train_data_3 = Dataset.from_pandas(train_df_3)\n",
        "train_data_4 = Dataset.from_pandas(train_df_4)\n",
        "train_data_5 = Dataset.from_pandas(train_df_5)\n",
        "test_data = Dataset.from_pandas(test_df)"
      ]
    },
    {
      "cell_type": "code",
      "execution_count": 74,
      "metadata": {},
      "outputs": [
        {
          "name": "stdout",
          "output_type": "stream",
          "text": [
            "{\"क\": 1, \"ख\": 2, \"ग\": 3, \"घ\": 4, \"ङ\": 5, \"च\": 6, \"छ\": 7, \"ज\": 8, \"झ\": 9, \"ञ\": 10, \"ट\": 11, \"ठ\": 12, \"ड\": 13, \"ढ\": 14, \"ण\": 15, \"त\": 16, \"थ\": 17, \"द\": 18, \"ध\": 19, \"न\": 20, \"प\": 21, \"फ\": 22, \"ब\": 23, \"भ\": 24, \"म\": 25, \"य\": 26, \"र\": 27, \"ल\": 28, \"व\": 29, \"श\": 30, \"ष\": 31, \"स\": 32, \"ह\": 33, \"क्ष\": 34, \"ज्ञ\": 35, \"अ\": 36, \"आ\": 37, \"इ\": 38, \"ई\": 39, \"उ\": 40, \"ऊ\": 41, \"ए\": 42, \"ऐ\": 43, \"ओ\": 44, \"औ\": 45, \"०\": 46, \"१\": 47, \"२\": 48, \"३\": 49, \"४\": 50, \"५\": 51, \"६\": 52, \"७\": 53, \"८\": 54, \"९\": 55, \"।\": 56, \"'\": 57, \"ं\": 58, \"ँ\": 59, \"्\": 60, \"ृ\": 61, \"ू\": 62, \"ी\": 63, \"ौ\": 64, \"ो\": 65, \"ा\": 66, \"ि\": 67, \"ऋ\": 68, \"!\": 69, \"‍\": 70, \"ै\": 71, \"ॠ\": 72, \"े\": 73, \"‌\": 74, \"ः\": 75, \"ु\": 76, \"|\": 0, \"[UNK]\": 77, \"[PAD]\": 78}\n"
          ]
        }
      ],
      "source": [
        "vocab_dict = open(VOCAB_PATH, \"r\", encoding=\"utf8\")\n",
        "output = vocab_dict.read()\n",
        "print(output)"
      ]
    },
    {
      "cell_type": "code",
      "execution_count": 82,
      "metadata": {},
      "outputs": [],
      "source": [
        "from transformers import Wav2Vec2CTCTokenizer\n",
        "\n",
        "tokenizer = Wav2Vec2CTCTokenizer(VOCAB_PATH, unk_token=\"[UNK]\", pad_token=\"[PAD]\", word_delimiter_token=\"|\")"
      ]
    },
    {
      "cell_type": "code",
      "execution_count": 83,
      "metadata": {},
      "outputs": [],
      "source": [
        "from transformers import Wav2Vec2FeatureExtractor\n",
        "\n",
        "feature_extractor = Wav2Vec2FeatureExtractor(feature_size=1, sampling_rate=16000, padding_value=0.0, do_normalize=True, return_attention_mask=True)"
      ]
    },
    {
      "cell_type": "code",
      "execution_count": 84,
      "metadata": {},
      "outputs": [],
      "source": [
        "from transformers import Wav2Vec2Processor\n",
        "\n",
        "processor = Wav2Vec2Processor(feature_extractor=feature_extractor, tokenizer=tokenizer)"
      ]
    },
    {
      "cell_type": "code",
      "execution_count": 70,
      "metadata": {},
      "outputs": [],
      "source": [
        "processor.save_pretrained(MODEL_PATH)"
      ]
    },
    {
      "cell_type": "code",
      "execution_count": 2,
      "metadata": {},
      "outputs": [
        {
          "data": {
            "text/plain": [
              "'1.12.0+cpu'"
            ]
          },
          "execution_count": 2,
          "metadata": {},
          "output_type": "execute_result"
        }
      ],
      "source": [
        "import torch\n",
        "torch.__version__"
      ]
    },
    {
      "cell_type": "code",
      "execution_count": 71,
      "metadata": {},
      "outputs": [],
      "source": [
        "import torchaudio \n",
        "\n",
        "def convertSpeechFileToArray(batch):\n",
        "    speech_arr, sampling_rate =  torchaudio.load(batch[\"filepath\"])\n",
        "    batch[\"speech\"] = speech_arr[0].numpy()\n",
        "    batch[\"sampling_rate\"] =  sampling_rate\n",
        "    batch[\"training_label\"] = batch[\"labels\"]\n",
        "    return batch \n",
        "\n"
      ]
    },
    {
      "cell_type": "markdown",
      "metadata": {},
      "source": [
        "This happened fast"
      ]
    },
    {
      "cell_type": "code",
      "execution_count": 75,
      "metadata": {},
      "outputs": [
        {
          "data": {
            "application/vnd.jupyter.widget-view+json": {
              "model_id": "2cb7c672fb1c4bc2a550c6473e5f14f8",
              "version_major": 2,
              "version_minor": 0
            },
            "text/plain": [
              "  0%|          | 0/2000 [00:00<?, ?ex/s]"
            ]
          },
          "metadata": {},
          "output_type": "display_data"
        },
        {
          "data": {
            "application/vnd.jupyter.widget-view+json": {
              "model_id": "9f7fedfd937a4181a3cb9dc8ee1c37ee",
              "version_major": 2,
              "version_minor": 0
            },
            "text/plain": [
              "  0%|          | 0/2000 [00:00<?, ?ex/s]"
            ]
          },
          "metadata": {},
          "output_type": "display_data"
        },
        {
          "data": {
            "application/vnd.jupyter.widget-view+json": {
              "model_id": "173e7c877780453598d5a3fc3aa50ec3",
              "version_major": 2,
              "version_minor": 0
            },
            "text/plain": [
              "  0%|          | 0/2000 [00:00<?, ?ex/s]"
            ]
          },
          "metadata": {},
          "output_type": "display_data"
        },
        {
          "data": {
            "application/vnd.jupyter.widget-view+json": {
              "model_id": "a54233d80c9f48e99a3b36885e067be8",
              "version_major": 2,
              "version_minor": 0
            },
            "text/plain": [
              "  0%|          | 0/2000 [00:00<?, ?ex/s]"
            ]
          },
          "metadata": {},
          "output_type": "display_data"
        },
        {
          "data": {
            "application/vnd.jupyter.widget-view+json": {
              "model_id": "010ee478b15848649ca532d94db8c394",
              "version_major": 2,
              "version_minor": 0
            },
            "text/plain": [
              "  0%|          | 0/2000 [00:00<?, ?ex/s]"
            ]
          },
          "metadata": {},
          "output_type": "display_data"
        },
        {
          "data": {
            "application/vnd.jupyter.widget-view+json": {
              "model_id": "47bed46b871143c2ad03d9aae251dc67",
              "version_major": 2,
              "version_minor": 0
            },
            "text/plain": [
              "  0%|          | 0/2000 [00:00<?, ?ex/s]"
            ]
          },
          "metadata": {},
          "output_type": "display_data"
        }
      ],
      "source": [
        "train_data_1 = train_data_1.map(convertSpeechFileToArray, remove_columns=train_data_1.column_names)\n",
        "train_data_2 = train_data_2.map(convertSpeechFileToArray, remove_columns=train_data_2.column_names)\n",
        "train_data_3 = train_data_3.map(convertSpeechFileToArray, remove_columns=train_data_3.column_names)\n",
        "train_data_4 = train_data_4.map(convertSpeechFileToArray, remove_columns=train_data_4.column_names)\n",
        "train_data_5 = train_data_5.map(convertSpeechFileToArray, remove_columns=train_data_5.column_names)\n",
        "\n",
        "test_data = test_data.map(convertSpeechFileToArray, remove_columns=test_data.column_names)"
      ]
    },
    {
      "cell_type": "code",
      "execution_count": 78,
      "metadata": {},
      "outputs": [],
      "source": [
        "import librosa \n",
        "import numpy as np \n",
        "\n",
        "def resample(batch):\n",
        "    batch[\"speech\"] = librosa.resample(np.asarray(batch[\"speech\"]),orig_sr=batch[\"sampling_rate\"],target_sr = 16000)\n",
        "    batch[\"sampling_rate\"] = 16000\n",
        "    return batch"
      ]
    },
    {
      "cell_type": "markdown",
      "metadata": {},
      "source": [
        "This took some time "
      ]
    },
    {
      "cell_type": "code",
      "execution_count": 79,
      "metadata": {},
      "outputs": [
        {
          "data": {
            "application/vnd.jupyter.widget-view+json": {
              "model_id": "0616eec441ca47f08baaf35e893b7d2f",
              "version_major": 2,
              "version_minor": 0
            },
            "text/plain": [
              "  0%|          | 0/2000 [00:00<?, ?ex/s]"
            ]
          },
          "metadata": {},
          "output_type": "display_data"
        },
        {
          "data": {
            "application/vnd.jupyter.widget-view+json": {
              "model_id": "6fdd51d9a20e494db0e5fe4429ac4ac0",
              "version_major": 2,
              "version_minor": 0
            },
            "text/plain": [
              "  0%|          | 0/2000 [00:00<?, ?ex/s]"
            ]
          },
          "metadata": {},
          "output_type": "display_data"
        },
        {
          "data": {
            "application/vnd.jupyter.widget-view+json": {
              "model_id": "ea183e0dd54f41449ea035e12369090e",
              "version_major": 2,
              "version_minor": 0
            },
            "text/plain": [
              "  0%|          | 0/2000 [00:00<?, ?ex/s]"
            ]
          },
          "metadata": {},
          "output_type": "display_data"
        },
        {
          "data": {
            "application/vnd.jupyter.widget-view+json": {
              "model_id": "29a1fb21af574115a76aa80c7411ea2b",
              "version_major": 2,
              "version_minor": 0
            },
            "text/plain": [
              "  0%|          | 0/2000 [00:00<?, ?ex/s]"
            ]
          },
          "metadata": {},
          "output_type": "display_data"
        },
        {
          "data": {
            "application/vnd.jupyter.widget-view+json": {
              "model_id": "8affe36eabb34febb8644efa214db6e8",
              "version_major": 2,
              "version_minor": 0
            },
            "text/plain": [
              "  0%|          | 0/2000 [00:00<?, ?ex/s]"
            ]
          },
          "metadata": {},
          "output_type": "display_data"
        },
        {
          "data": {
            "application/vnd.jupyter.widget-view+json": {
              "model_id": "a3dc53c333714ce6a947f1992d08ade3",
              "version_major": 2,
              "version_minor": 0
            },
            "text/plain": [
              "  0%|          | 0/2000 [00:00<?, ?ex/s]"
            ]
          },
          "metadata": {},
          "output_type": "display_data"
        }
      ],
      "source": [
        "train_data_1 = train_data_1.map(resample)\n",
        "train_data_2 = train_data_2.map(resample)\n",
        "train_data_3 = train_data_3.map(resample)\n",
        "train_data_4 = train_data_4.map(resample)\n",
        "train_data_5 = train_data_5.map(resample)\n",
        "\n",
        "test_data = test_data.map(resample)"
      ]
    },
    {
      "cell_type": "markdown",
      "metadata": {},
      "source": [
        "# Don't run from Here"
      ]
    },
    {
      "cell_type": "code",
      "execution_count": 85,
      "metadata": {},
      "outputs": [],
      "source": [
        "def prepare_dataset(batch):\n",
        "    print(processor)\n",
        "     # check that all files have the correct sampling rate\n",
        "    assert (\n",
        "        len(set(batch[\"sampling_rate\"])) == 1\n",
        "    ), f\"Make sure all inputs have the same sampling rate of {processor.feature_extractor.sampling_rate}.\"\n",
        "\n",
        "    batch[\"input_values\"] = processor(batch[\"speech\"], sampling_rate=batch[\"sampling_rate\"][0]).input_values\n",
        "\n",
        "    with processor.as_target_processor():\n",
        "        batch[\"labels\"] = processor(batch[\"target_label\"]).input_ids\n",
        "    return batch"
      ]
    },
    {
      "cell_type": "code",
      "execution_count": null,
      "metadata": {},
      "outputs": [],
      "source": []
    },
    {
      "cell_type": "code",
      "execution_count": 89,
      "metadata": {},
      "outputs": [
        {
          "name": "stdout",
          "output_type": "stream",
          "text": [
            "    "
          ]
        },
        {
          "ename": "NameError",
          "evalue": "name 'processor' is not defined",
          "output_type": "error",
          "traceback": [
            "\u001b[1;31m---------------------------------------------------------------------------\u001b[0m",
            "\u001b[1;31mRemoteTraceback\u001b[0m                           Traceback (most recent call last)",
            "\u001b[1;31mRemoteTraceback\u001b[0m: \n\"\"\"\nTraceback (most recent call last):\n  File \"d:\\Programming\\Python\\.aivenv\\lib\\site-packages\\multiprocess\\pool.py\", line 125, in worker\n    result = (True, func(*args, **kwds))\n  File \"d:\\Programming\\Python\\.aivenv\\lib\\site-packages\\datasets\\arrow_dataset.py\", line 557, in wrapper\n    out: Union[\"Dataset\", \"DatasetDict\"] = func(self, *args, **kwargs)\n  File \"d:\\Programming\\Python\\.aivenv\\lib\\site-packages\\datasets\\arrow_dataset.py\", line 524, in wrapper\n    out: Union[\"Dataset\", \"DatasetDict\"] = func(self, *args, **kwargs)\n  File \"d:\\Programming\\Python\\.aivenv\\lib\\site-packages\\datasets\\fingerprint.py\", line 480, in wrapper\n    out = func(self, *args, **kwargs)\n  File \"d:\\Programming\\Python\\.aivenv\\lib\\site-packages\\datasets\\arrow_dataset.py\", line 2775, in _map_single\n    batch = apply_function_on_filtered_inputs(\n  File \"d:\\Programming\\Python\\.aivenv\\lib\\site-packages\\datasets\\arrow_dataset.py\", line 2655, in apply_function_on_filtered_inputs\n    processed_inputs = function(*fn_args, *additional_args, **fn_kwargs)\n  File \"d:\\Programming\\Python\\.aivenv\\lib\\site-packages\\datasets\\arrow_dataset.py\", line 2347, in decorated\n    result = f(decorated_item, *args, **kwargs)\n  File \"C:\\Users\\dell\\AppData\\Local\\Temp\\ipykernel_13264\\1928604679.py\", line 7, in prepare_dataset\nNameError: name 'processor' is not defined\n\"\"\"",
            "\nThe above exception was the direct cause of the following exception:\n",
            "\u001b[1;31mNameError\u001b[0m                                 Traceback (most recent call last)",
            "\u001b[1;32md:\\Programming\\Projects\\major_project\\Codes\\ASR\\NASR.ipynb Cell 22\u001b[0m in \u001b[0;36m<cell line: 1>\u001b[1;34m()\u001b[0m\n\u001b[1;32m----> <a href='vscode-notebook-cell:/d%3A/Programming/Projects/major_project/Codes/ASR/NASR.ipynb#X61sZmlsZQ%3D%3D?line=0'>1</a>\u001b[0m train_data_1 \u001b[39m=\u001b[39m train_data_1\u001b[39m.\u001b[39;49mmap(prepare_dataset, remove_columns\u001b[39m=\u001b[39;49mtrain_data_1\u001b[39m.\u001b[39;49mcolumn_names, batch_size\u001b[39m=\u001b[39;49m\u001b[39m8\u001b[39;49m, num_proc\u001b[39m=\u001b[39;49m\u001b[39m4\u001b[39;49m, batched\u001b[39m=\u001b[39;49m\u001b[39mTrue\u001b[39;49;00m)\n\u001b[0;32m      <a href='vscode-notebook-cell:/d%3A/Programming/Projects/major_project/Codes/ASR/NASR.ipynb#X61sZmlsZQ%3D%3D?line=1'>2</a>\u001b[0m train_data_2 \u001b[39m=\u001b[39m train_data_2\u001b[39m.\u001b[39mmap(prepare_dataset, remove_columns\u001b[39m=\u001b[39mtrain_data_2\u001b[39m.\u001b[39mcolumn_names, batch_size\u001b[39m=\u001b[39m\u001b[39m8\u001b[39m, num_proc\u001b[39m=\u001b[39m\u001b[39m4\u001b[39m, batched\u001b[39m=\u001b[39m\u001b[39mTrue\u001b[39;00m)\n\u001b[0;32m      <a href='vscode-notebook-cell:/d%3A/Programming/Projects/major_project/Codes/ASR/NASR.ipynb#X61sZmlsZQ%3D%3D?line=2'>3</a>\u001b[0m train_data_3 \u001b[39m=\u001b[39m train_data_3\u001b[39m.\u001b[39mmap(prepare_dataset, remove_columns\u001b[39m=\u001b[39mtrain_data_3\u001b[39m.\u001b[39mcolumn_names, batch_size\u001b[39m=\u001b[39m\u001b[39m8\u001b[39m, num_proc\u001b[39m=\u001b[39m\u001b[39m4\u001b[39m, batched\u001b[39m=\u001b[39m\u001b[39mTrue\u001b[39;00m)\n",
            "File \u001b[1;32md:\\Programming\\Python\\.aivenv\\lib\\site-packages\\datasets\\arrow_dataset.py:2500\u001b[0m, in \u001b[0;36mDataset.map\u001b[1;34m(self, function, with_indices, with_rank, input_columns, batched, batch_size, drop_last_batch, remove_columns, keep_in_memory, load_from_cache_file, cache_file_name, writer_batch_size, features, disable_nullable, fn_kwargs, num_proc, suffix_template, new_fingerprint, desc)\u001b[0m\n\u001b[0;32m   2495\u001b[0m         \u001b[39massert\u001b[39;00m (\n\u001b[0;32m   2496\u001b[0m             \u001b[39mlen\u001b[39m(results) \u001b[39m==\u001b[39m nb_of_missing_shards\n\u001b[0;32m   2497\u001b[0m         ), \u001b[39m\"\u001b[39m\u001b[39mThe number of missing cached shards needs to correspond to the number of `_map_single` we\u001b[39m\u001b[39m'\u001b[39m\u001b[39mre running\u001b[39m\u001b[39m\"\u001b[39m\n\u001b[0;32m   2499\u001b[0m         \u001b[39mfor\u001b[39;00m index, async_result \u001b[39min\u001b[39;00m results\u001b[39m.\u001b[39mitems():\n\u001b[1;32m-> 2500\u001b[0m             transformed_shards[index] \u001b[39m=\u001b[39m async_result\u001b[39m.\u001b[39;49mget()\n\u001b[0;32m   2502\u001b[0m \u001b[39massert\u001b[39;00m (\n\u001b[0;32m   2503\u001b[0m     transformed_shards\u001b[39m.\u001b[39mcount(\u001b[39mNone\u001b[39;00m) \u001b[39m==\u001b[39m \u001b[39m0\u001b[39m\n\u001b[0;32m   2504\u001b[0m ), \u001b[39m\"\u001b[39m\u001b[39mAll shards have to be defined Datasets, none should still be missing.\u001b[39m\u001b[39m\"\u001b[39m\n\u001b[0;32m   2506\u001b[0m logger\u001b[39m.\u001b[39minfo(\u001b[39mf\u001b[39m\u001b[39m\"\u001b[39m\u001b[39mConcatenating \u001b[39m\u001b[39m{\u001b[39;00mnum_proc\u001b[39m}\u001b[39;00m\u001b[39m shards\u001b[39m\u001b[39m\"\u001b[39m)\n",
            "File \u001b[1;32md:\\Programming\\Python\\.aivenv\\lib\\site-packages\\multiprocess\\pool.py:771\u001b[0m, in \u001b[0;36mApplyResult.get\u001b[1;34m(self, timeout)\u001b[0m\n\u001b[0;32m    769\u001b[0m     \u001b[39mreturn\u001b[39;00m \u001b[39mself\u001b[39m\u001b[39m.\u001b[39m_value\n\u001b[0;32m    770\u001b[0m \u001b[39melse\u001b[39;00m:\n\u001b[1;32m--> 771\u001b[0m     \u001b[39mraise\u001b[39;00m \u001b[39mself\u001b[39m\u001b[39m.\u001b[39m_value\n",
            "\u001b[1;31mNameError\u001b[0m: name 'processor' is not defined"
          ]
        }
      ],
      "source": [
        "train_data_1 = train_data_1.map(prepare_dataset, remove_columns=train_data_1.column_names, batch_size=8, num_proc=4, batched=True)\n",
        "train_data_2 = train_data_2.map(prepare_dataset, remove_columns=train_data_2.column_names, batch_size=8, num_proc=4, batched=True)\n",
        "train_data_3 = train_data_3.map(prepare_dataset, remove_columns=train_data_3.column_names, batch_size=8, num_proc=4, batched=True)\n",
        "train_data_4 = train_data_4.map(prepare_dataset, remove_columns=train_data_4.column_names, batch_size=8, num_proc=4, batched=True)\n",
        "train_data_5 = train_data_5.map(prepare_dataset, remove_columns=train_data_5.column_names, batch_size=8, num_proc=4, batched=True)\n",
        "\n",
        "test_data = test_data.map(prepare_dataset, remove_columns=test_data.column_names, batch_size=8, num_proc=4, batched=True)"
      ]
    },
    {
      "cell_type": "code",
      "execution_count": 43,
      "metadata": {
        "colab": {
          "base_uri": "https://localhost:8080/",
          "height": 81
        },
        "id": "MQYRI_p54UOx",
        "outputId": "66b456ec-517f-4815-b4c2-01ad07ec25b7"
      },
      "outputs": [
        {
          "data": {
            "text/html": [
              "\n",
              "  <div id=\"df-ab295499-4aff-42b0-8b8c-5a994192364a\">\n",
              "    <div class=\"colab-df-container\">\n",
              "      <div>\n",
              "<style scoped>\n",
              "    .dataframe tbody tr th:only-of-type {\n",
              "        vertical-align: middle;\n",
              "    }\n",
              "\n",
              "    .dataframe tbody tr th {\n",
              "        vertical-align: top;\n",
              "    }\n",
              "\n",
              "    .dataframe thead th {\n",
              "        text-align: right;\n",
              "    }\n",
              "</style>\n",
              "<table border=\"1\" class=\"dataframe\">\n",
              "  <thead>\n",
              "    <tr style=\"text-align: right;\">\n",
              "      <th></th>\n",
              "      <th>loc</th>\n",
              "      <th>id</th>\n",
              "      <th>labels</th>\n",
              "    </tr>\n",
              "  </thead>\n",
              "  <tbody>\n",
              "    <tr>\n",
              "      <th>8120</th>\n",
              "      <td>0e00581027</td>\n",
              "      <td>b3c22</td>\n",
              "      <td>अफिसमा भने</td>\n",
              "    </tr>\n",
              "  </tbody>\n",
              "</table>\n",
              "</div>\n",
              "      <button class=\"colab-df-convert\" onclick=\"convertToInteractive('df-ab295499-4aff-42b0-8b8c-5a994192364a')\"\n",
              "              title=\"Convert this dataframe to an interactive table.\"\n",
              "              style=\"display:none;\">\n",
              "        \n",
              "  <svg xmlns=\"http://www.w3.org/2000/svg\" height=\"24px\"viewBox=\"0 0 24 24\"\n",
              "       width=\"24px\">\n",
              "    <path d=\"M0 0h24v24H0V0z\" fill=\"none\"/>\n",
              "    <path d=\"M18.56 5.44l.94 2.06.94-2.06 2.06-.94-2.06-.94-.94-2.06-.94 2.06-2.06.94zm-11 1L8.5 8.5l.94-2.06 2.06-.94-2.06-.94L8.5 2.5l-.94 2.06-2.06.94zm10 10l.94 2.06.94-2.06 2.06-.94-2.06-.94-.94-2.06-.94 2.06-2.06.94z\"/><path d=\"M17.41 7.96l-1.37-1.37c-.4-.4-.92-.59-1.43-.59-.52 0-1.04.2-1.43.59L10.3 9.45l-7.72 7.72c-.78.78-.78 2.05 0 2.83L4 21.41c.39.39.9.59 1.41.59.51 0 1.02-.2 1.41-.59l7.78-7.78 2.81-2.81c.8-.78.8-2.07 0-2.86zM5.41 20L4 18.59l7.72-7.72 1.47 1.35L5.41 20z\"/>\n",
              "  </svg>\n",
              "      </button>\n",
              "      \n",
              "  <style>\n",
              "    .colab-df-container {\n",
              "      display:flex;\n",
              "      flex-wrap:wrap;\n",
              "      gap: 12px;\n",
              "    }\n",
              "\n",
              "    .colab-df-convert {\n",
              "      background-color: #E8F0FE;\n",
              "      border: none;\n",
              "      border-radius: 50%;\n",
              "      cursor: pointer;\n",
              "      display: none;\n",
              "      fill: #1967D2;\n",
              "      height: 32px;\n",
              "      padding: 0 0 0 0;\n",
              "      width: 32px;\n",
              "    }\n",
              "\n",
              "    .colab-df-convert:hover {\n",
              "      background-color: #E2EBFA;\n",
              "      box-shadow: 0px 1px 2px rgba(60, 64, 67, 0.3), 0px 1px 3px 1px rgba(60, 64, 67, 0.15);\n",
              "      fill: #174EA6;\n",
              "    }\n",
              "\n",
              "    [theme=dark] .colab-df-convert {\n",
              "      background-color: #3B4455;\n",
              "      fill: #D2E3FC;\n",
              "    }\n",
              "\n",
              "    [theme=dark] .colab-df-convert:hover {\n",
              "      background-color: #434B5C;\n",
              "      box-shadow: 0px 1px 3px 1px rgba(0, 0, 0, 0.15);\n",
              "      filter: drop-shadow(0px 1px 2px rgba(0, 0, 0, 0.3));\n",
              "      fill: #FFFFFF;\n",
              "    }\n",
              "  </style>\n",
              "\n",
              "      <script>\n",
              "        const buttonEl =\n",
              "          document.querySelector('#df-ab295499-4aff-42b0-8b8c-5a994192364a button.colab-df-convert');\n",
              "        buttonEl.style.display =\n",
              "          google.colab.kernel.accessAllowed ? 'block' : 'none';\n",
              "\n",
              "        async function convertToInteractive(key) {\n",
              "          const element = document.querySelector('#df-ab295499-4aff-42b0-8b8c-5a994192364a');\n",
              "          const dataTable =\n",
              "            await google.colab.kernel.invokeFunction('convertToInteractive',\n",
              "                                                     [key], {});\n",
              "          if (!dataTable) return;\n",
              "\n",
              "          const docLinkHtml = 'Like what you see? Visit the ' +\n",
              "            '<a target=\"_blank\" href=https://colab.research.google.com/notebooks/data_table.ipynb>data table notebook</a>'\n",
              "            + ' to learn more about interactive tables.';\n",
              "          element.innerHTML = '';\n",
              "          dataTable['output_type'] = 'display_data';\n",
              "          await google.colab.output.renderOutput(dataTable, element);\n",
              "          const docLink = document.createElement('div');\n",
              "          docLink.innerHTML = docLinkHtml;\n",
              "          element.appendChild(docLink);\n",
              "        }\n",
              "      </script>\n",
              "    </div>\n",
              "  </div>\n",
              "  "
            ],
            "text/plain": [
              "             loc     id      labels\n",
              "8120  0e00581027  b3c22  अफिसमा भने"
            ]
          },
          "execution_count": 43,
          "metadata": {},
          "output_type": "execute_result"
        }
      ],
      "source": [
        "df.loc[df['labels']=='अफिसमा भने']"
      ]
    },
    {
      "cell_type": "code",
      "execution_count": 26,
      "metadata": {
        "colab": {
          "base_uri": "https://localhost:8080/"
        },
        "id": "PW9kmyBG0r8y",
        "outputId": "f5f1e170-665a-4ba8-e617-6ce0bfd7480d"
      },
      "outputs": [
        {
          "data": {
            "text/plain": [
              "loc       0\n",
              "id        0\n",
              "labels    0\n",
              "dtype: int64"
            ]
          },
          "execution_count": 26,
          "metadata": {},
          "output_type": "execute_result"
        }
      ],
      "source": [
        "df.isna().sum()"
      ]
    },
    {
      "cell_type": "code",
      "execution_count": 8,
      "metadata": {
        "colab": {
          "base_uri": "https://localhost:8080/",
          "height": 206
        },
        "id": "YEGGNRNuZXrS",
        "outputId": "749aa8f4-ce08-4db2-cd7e-96e1081bcf0d"
      },
      "outputs": [
        {
          "data": {
            "text/html": [
              "\n",
              "  <div id=\"df-ce90d3a3-3fca-4334-83bf-da9c15f82e46\">\n",
              "    <div class=\"colab-df-container\">\n",
              "      <div>\n",
              "<style scoped>\n",
              "    .dataframe tbody tr th:only-of-type {\n",
              "        vertical-align: middle;\n",
              "    }\n",
              "\n",
              "    .dataframe tbody tr th {\n",
              "        vertical-align: top;\n",
              "    }\n",
              "\n",
              "    .dataframe thead th {\n",
              "        text-align: right;\n",
              "    }\n",
              "</style>\n",
              "<table border=\"1\" class=\"dataframe\">\n",
              "  <thead>\n",
              "    <tr style=\"text-align: right;\">\n",
              "      <th></th>\n",
              "      <th>loc</th>\n",
              "      <th>id</th>\n",
              "      <th>labels</th>\n",
              "    </tr>\n",
              "  </thead>\n",
              "  <tbody>\n",
              "    <tr>\n",
              "      <th>0</th>\n",
              "      <td>4aa1fdca33</td>\n",
              "      <td>6a6d1</td>\n",
              "      <td>००७ मिलको दूरीमा</td>\n",
              "    </tr>\n",
              "    <tr>\n",
              "      <th>1</th>\n",
              "      <td>86e521554a</td>\n",
              "      <td>1f680</td>\n",
              "      <td>००७ मिलको दूरीमा</td>\n",
              "    </tr>\n",
              "    <tr>\n",
              "      <th>2</th>\n",
              "      <td>c96b2b1afb</td>\n",
              "      <td>e349f</td>\n",
              "      <td>००७ मिलको दूरीमा</td>\n",
              "    </tr>\n",
              "    <tr>\n",
              "      <th>3</th>\n",
              "      <td>2f7ab41953</td>\n",
              "      <td>294d8</td>\n",
              "      <td>०११ देखि काङ्ग्रेसको</td>\n",
              "    </tr>\n",
              "    <tr>\n",
              "      <th>4</th>\n",
              "      <td>c290e5124b</td>\n",
              "      <td>88901</td>\n",
              "      <td>०१ सौर द्रव्यमान</td>\n",
              "    </tr>\n",
              "  </tbody>\n",
              "</table>\n",
              "</div>\n",
              "      <button class=\"colab-df-convert\" onclick=\"convertToInteractive('df-ce90d3a3-3fca-4334-83bf-da9c15f82e46')\"\n",
              "              title=\"Convert this dataframe to an interactive table.\"\n",
              "              style=\"display:none;\">\n",
              "        \n",
              "  <svg xmlns=\"http://www.w3.org/2000/svg\" height=\"24px\"viewBox=\"0 0 24 24\"\n",
              "       width=\"24px\">\n",
              "    <path d=\"M0 0h24v24H0V0z\" fill=\"none\"/>\n",
              "    <path d=\"M18.56 5.44l.94 2.06.94-2.06 2.06-.94-2.06-.94-.94-2.06-.94 2.06-2.06.94zm-11 1L8.5 8.5l.94-2.06 2.06-.94-2.06-.94L8.5 2.5l-.94 2.06-2.06.94zm10 10l.94 2.06.94-2.06 2.06-.94-2.06-.94-.94-2.06-.94 2.06-2.06.94z\"/><path d=\"M17.41 7.96l-1.37-1.37c-.4-.4-.92-.59-1.43-.59-.52 0-1.04.2-1.43.59L10.3 9.45l-7.72 7.72c-.78.78-.78 2.05 0 2.83L4 21.41c.39.39.9.59 1.41.59.51 0 1.02-.2 1.41-.59l7.78-7.78 2.81-2.81c.8-.78.8-2.07 0-2.86zM5.41 20L4 18.59l7.72-7.72 1.47 1.35L5.41 20z\"/>\n",
              "  </svg>\n",
              "      </button>\n",
              "      \n",
              "  <style>\n",
              "    .colab-df-container {\n",
              "      display:flex;\n",
              "      flex-wrap:wrap;\n",
              "      gap: 12px;\n",
              "    }\n",
              "\n",
              "    .colab-df-convert {\n",
              "      background-color: #E8F0FE;\n",
              "      border: none;\n",
              "      border-radius: 50%;\n",
              "      cursor: pointer;\n",
              "      display: none;\n",
              "      fill: #1967D2;\n",
              "      height: 32px;\n",
              "      padding: 0 0 0 0;\n",
              "      width: 32px;\n",
              "    }\n",
              "\n",
              "    .colab-df-convert:hover {\n",
              "      background-color: #E2EBFA;\n",
              "      box-shadow: 0px 1px 2px rgba(60, 64, 67, 0.3), 0px 1px 3px 1px rgba(60, 64, 67, 0.15);\n",
              "      fill: #174EA6;\n",
              "    }\n",
              "\n",
              "    [theme=dark] .colab-df-convert {\n",
              "      background-color: #3B4455;\n",
              "      fill: #D2E3FC;\n",
              "    }\n",
              "\n",
              "    [theme=dark] .colab-df-convert:hover {\n",
              "      background-color: #434B5C;\n",
              "      box-shadow: 0px 1px 3px 1px rgba(0, 0, 0, 0.15);\n",
              "      filter: drop-shadow(0px 1px 2px rgba(0, 0, 0, 0.3));\n",
              "      fill: #FFFFFF;\n",
              "    }\n",
              "  </style>\n",
              "\n",
              "      <script>\n",
              "        const buttonEl =\n",
              "          document.querySelector('#df-ce90d3a3-3fca-4334-83bf-da9c15f82e46 button.colab-df-convert');\n",
              "        buttonEl.style.display =\n",
              "          google.colab.kernel.accessAllowed ? 'block' : 'none';\n",
              "\n",
              "        async function convertToInteractive(key) {\n",
              "          const element = document.querySelector('#df-ce90d3a3-3fca-4334-83bf-da9c15f82e46');\n",
              "          const dataTable =\n",
              "            await google.colab.kernel.invokeFunction('convertToInteractive',\n",
              "                                                     [key], {});\n",
              "          if (!dataTable) return;\n",
              "\n",
              "          const docLinkHtml = 'Like what you see? Visit the ' +\n",
              "            '<a target=\"_blank\" href=https://colab.research.google.com/notebooks/data_table.ipynb>data table notebook</a>'\n",
              "            + ' to learn more about interactive tables.';\n",
              "          element.innerHTML = '';\n",
              "          dataTable['output_type'] = 'display_data';\n",
              "          await google.colab.output.renderOutput(dataTable, element);\n",
              "          const docLink = document.createElement('div');\n",
              "          docLink.innerHTML = docLinkHtml;\n",
              "          element.appendChild(docLink);\n",
              "        }\n",
              "      </script>\n",
              "    </div>\n",
              "  </div>\n",
              "  "
            ],
            "text/plain": [
              "          loc     id                labels\n",
              "0  4aa1fdca33  6a6d1      ००७ मिलको दूरीमा\n",
              "1  86e521554a  1f680      ००७ मिलको दूरीमा\n",
              "2  c96b2b1afb  e349f      ००७ मिलको दूरीमा\n",
              "3  2f7ab41953  294d8  ०११ देखि काङ्ग्रेसको\n",
              "4  c290e5124b  88901      ०१ सौर द्रव्यमान"
            ]
          },
          "execution_count": 8,
          "metadata": {},
          "output_type": "execute_result"
        }
      ],
      "source": [
        "all_data_pd = pd.read_csv(\"openslr_text.csv\")\n",
        "all_data_pd.head()"
      ]
    },
    {
      "cell_type": "code",
      "execution_count": 29,
      "metadata": {
        "colab": {
          "base_uri": "https://localhost:8080/"
        },
        "id": "8NKx_0To0Szw",
        "outputId": "3a49290a-6b31-455c-b07c-349042d5174d"
      },
      "outputs": [
        {
          "data": {
            "text/plain": [
              "loc       0\n",
              "id        0\n",
              "labels    0\n",
              "dtype: int64"
            ]
          },
          "execution_count": 29,
          "metadata": {},
          "output_type": "execute_result"
        }
      ],
      "source": [
        "all_data_pd.isna().sum()"
      ]
    },
    {
      "cell_type": "code",
      "execution_count": 39,
      "metadata": {
        "colab": {
          "base_uri": "https://localhost:8080/",
          "height": 424
        },
        "id": "oRPN6H5p3_hL",
        "outputId": "9ac28f56-6083-4b02-9b9a-36f995b64522"
      },
      "outputs": [
        {
          "data": {
            "text/html": [
              "\n",
              "  <div id=\"df-5b8cfaf6-a4c5-4623-b738-4f3f937027a1\">\n",
              "    <div class=\"colab-df-container\">\n",
              "      <div>\n",
              "<style scoped>\n",
              "    .dataframe tbody tr th:only-of-type {\n",
              "        vertical-align: middle;\n",
              "    }\n",
              "\n",
              "    .dataframe tbody tr th {\n",
              "        vertical-align: top;\n",
              "    }\n",
              "\n",
              "    .dataframe thead th {\n",
              "        text-align: right;\n",
              "    }\n",
              "</style>\n",
              "<table border=\"1\" class=\"dataframe\">\n",
              "  <thead>\n",
              "    <tr style=\"text-align: right;\">\n",
              "      <th></th>\n",
              "      <th>loc</th>\n",
              "      <th>id</th>\n",
              "      <th>labels</th>\n",
              "    </tr>\n",
              "  </thead>\n",
              "  <tbody>\n",
              "    <tr>\n",
              "      <th>489</th>\n",
              "      <td>5619da912a</td>\n",
              "      <td>c0b92</td>\n",
              "      <td>१४ अध्याय छन्</td>\n",
              "    </tr>\n",
              "    <tr>\n",
              "      <th>786</th>\n",
              "      <td>5c83f493b3</td>\n",
              "      <td>c0b92</td>\n",
              "      <td>१८५४ मा प्रथम</td>\n",
              "    </tr>\n",
              "    <tr>\n",
              "      <th>2400</th>\n",
              "      <td>7c3804c749</td>\n",
              "      <td>c0b92</td>\n",
              "      <td>२१ मे १९७९</td>\n",
              "    </tr>\n",
              "    <tr>\n",
              "      <th>2592</th>\n",
              "      <td>fc0149a972</td>\n",
              "      <td>c0b92</td>\n",
              "      <td>२६ गतेको हकमा</td>\n",
              "    </tr>\n",
              "    <tr>\n",
              "      <th>3196</th>\n",
              "      <td>88887deb68</td>\n",
              "      <td>c0b92</td>\n",
              "      <td>४५ आप्रवासीहरू थिए</td>\n",
              "    </tr>\n",
              "    <tr>\n",
              "      <th>...</th>\n",
              "      <td>...</td>\n",
              "      <td>...</td>\n",
              "      <td>...</td>\n",
              "    </tr>\n",
              "    <tr>\n",
              "      <th>155292</th>\n",
              "      <td>d8b314d707</td>\n",
              "      <td>c0b92</td>\n",
              "      <td>हामीहरू छोरी ज्वाईँको</td>\n",
              "    </tr>\n",
              "    <tr>\n",
              "      <th>155493</th>\n",
              "      <td>b08e4ca9cb</td>\n",
              "      <td>c0b92</td>\n",
              "      <td>हाल ४ पृष्ठमा प्रकाशित</td>\n",
              "    </tr>\n",
              "    <tr>\n",
              "      <th>156259</th>\n",
              "      <td>d569e322d7</td>\n",
              "      <td>c0b92</td>\n",
              "      <td>हिँउ हटेपछि श्रावणदेखि</td>\n",
              "    </tr>\n",
              "    <tr>\n",
              "      <th>156760</th>\n",
              "      <td>f57671ffda</td>\n",
              "      <td>c0b92</td>\n",
              "      <td>हुने तथा जनसङ्ख्या</td>\n",
              "    </tr>\n",
              "    <tr>\n",
              "      <th>157091</th>\n",
              "      <td>2915a485ec</td>\n",
              "      <td>c0b92</td>\n",
              "      <td>हुन्छ यस दशामा</td>\n",
              "    </tr>\n",
              "  </tbody>\n",
              "</table>\n",
              "<p>313 rows × 3 columns</p>\n",
              "</div>\n",
              "      <button class=\"colab-df-convert\" onclick=\"convertToInteractive('df-5b8cfaf6-a4c5-4623-b738-4f3f937027a1')\"\n",
              "              title=\"Convert this dataframe to an interactive table.\"\n",
              "              style=\"display:none;\">\n",
              "        \n",
              "  <svg xmlns=\"http://www.w3.org/2000/svg\" height=\"24px\"viewBox=\"0 0 24 24\"\n",
              "       width=\"24px\">\n",
              "    <path d=\"M0 0h24v24H0V0z\" fill=\"none\"/>\n",
              "    <path d=\"M18.56 5.44l.94 2.06.94-2.06 2.06-.94-2.06-.94-.94-2.06-.94 2.06-2.06.94zm-11 1L8.5 8.5l.94-2.06 2.06-.94-2.06-.94L8.5 2.5l-.94 2.06-2.06.94zm10 10l.94 2.06.94-2.06 2.06-.94-2.06-.94-.94-2.06-.94 2.06-2.06.94z\"/><path d=\"M17.41 7.96l-1.37-1.37c-.4-.4-.92-.59-1.43-.59-.52 0-1.04.2-1.43.59L10.3 9.45l-7.72 7.72c-.78.78-.78 2.05 0 2.83L4 21.41c.39.39.9.59 1.41.59.51 0 1.02-.2 1.41-.59l7.78-7.78 2.81-2.81c.8-.78.8-2.07 0-2.86zM5.41 20L4 18.59l7.72-7.72 1.47 1.35L5.41 20z\"/>\n",
              "  </svg>\n",
              "      </button>\n",
              "      \n",
              "  <style>\n",
              "    .colab-df-container {\n",
              "      display:flex;\n",
              "      flex-wrap:wrap;\n",
              "      gap: 12px;\n",
              "    }\n",
              "\n",
              "    .colab-df-convert {\n",
              "      background-color: #E8F0FE;\n",
              "      border: none;\n",
              "      border-radius: 50%;\n",
              "      cursor: pointer;\n",
              "      display: none;\n",
              "      fill: #1967D2;\n",
              "      height: 32px;\n",
              "      padding: 0 0 0 0;\n",
              "      width: 32px;\n",
              "    }\n",
              "\n",
              "    .colab-df-convert:hover {\n",
              "      background-color: #E2EBFA;\n",
              "      box-shadow: 0px 1px 2px rgba(60, 64, 67, 0.3), 0px 1px 3px 1px rgba(60, 64, 67, 0.15);\n",
              "      fill: #174EA6;\n",
              "    }\n",
              "\n",
              "    [theme=dark] .colab-df-convert {\n",
              "      background-color: #3B4455;\n",
              "      fill: #D2E3FC;\n",
              "    }\n",
              "\n",
              "    [theme=dark] .colab-df-convert:hover {\n",
              "      background-color: #434B5C;\n",
              "      box-shadow: 0px 1px 3px 1px rgba(0, 0, 0, 0.15);\n",
              "      filter: drop-shadow(0px 1px 2px rgba(0, 0, 0, 0.3));\n",
              "      fill: #FFFFFF;\n",
              "    }\n",
              "  </style>\n",
              "\n",
              "      <script>\n",
              "        const buttonEl =\n",
              "          document.querySelector('#df-5b8cfaf6-a4c5-4623-b738-4f3f937027a1 button.colab-df-convert');\n",
              "        buttonEl.style.display =\n",
              "          google.colab.kernel.accessAllowed ? 'block' : 'none';\n",
              "\n",
              "        async function convertToInteractive(key) {\n",
              "          const element = document.querySelector('#df-5b8cfaf6-a4c5-4623-b738-4f3f937027a1');\n",
              "          const dataTable =\n",
              "            await google.colab.kernel.invokeFunction('convertToInteractive',\n",
              "                                                     [key], {});\n",
              "          if (!dataTable) return;\n",
              "\n",
              "          const docLinkHtml = 'Like what you see? Visit the ' +\n",
              "            '<a target=\"_blank\" href=https://colab.research.google.com/notebooks/data_table.ipynb>data table notebook</a>'\n",
              "            + ' to learn more about interactive tables.';\n",
              "          element.innerHTML = '';\n",
              "          dataTable['output_type'] = 'display_data';\n",
              "          await google.colab.output.renderOutput(dataTable, element);\n",
              "          const docLink = document.createElement('div');\n",
              "          docLink.innerHTML = docLinkHtml;\n",
              "          element.appendChild(docLink);\n",
              "        }\n",
              "      </script>\n",
              "    </div>\n",
              "  </div>\n",
              "  "
            ],
            "text/plain": [
              "               loc     id                  labels\n",
              "489     5619da912a  c0b92           १४ अध्याय छन्\n",
              "786     5c83f493b3  c0b92           १८५४ मा प्रथम\n",
              "2400    7c3804c749  c0b92              २१ मे १९७९\n",
              "2592    fc0149a972  c0b92           २६ गतेको हकमा\n",
              "3196    88887deb68  c0b92      ४५ आप्रवासीहरू थिए\n",
              "...            ...    ...                     ...\n",
              "155292  d8b314d707  c0b92   हामीहरू छोरी ज्वाईँको\n",
              "155493  b08e4ca9cb  c0b92  हाल ४ पृष्ठमा प्रकाशित\n",
              "156259  d569e322d7  c0b92  हिँउ हटेपछि श्रावणदेखि\n",
              "156760  f57671ffda  c0b92      हुने तथा जनसङ्ख्या\n",
              "157091  2915a485ec  c0b92          हुन्छ यस दशामा\n",
              "\n",
              "[313 rows x 3 columns]"
            ]
          },
          "execution_count": 39,
          "metadata": {},
          "output_type": "execute_result"
        }
      ],
      "source": [
        "all_data_pd.loc[all_data_pd['id']=='c0b92']"
      ]
    },
    {
      "cell_type": "code",
      "execution_count": 42,
      "metadata": {
        "colab": {
          "base_uri": "https://localhost:8080/",
          "height": 582
        },
        "id": "fgFiooO34NVq",
        "outputId": "73cd4810-dbe6-4416-bb03-28dd71b99bf7"
      },
      "outputs": [
        {
          "data": {
            "text/html": [
              "\n",
              "  <div id=\"df-21b5cee8-cd99-48db-846e-b2d400609b6b\">\n",
              "    <div class=\"colab-df-container\">\n",
              "      <div>\n",
              "<style scoped>\n",
              "    .dataframe tbody tr th:only-of-type {\n",
              "        vertical-align: middle;\n",
              "    }\n",
              "\n",
              "    .dataframe tbody tr th {\n",
              "        vertical-align: top;\n",
              "    }\n",
              "\n",
              "    .dataframe thead th {\n",
              "        text-align: right;\n",
              "    }\n",
              "</style>\n",
              "<table border=\"1\" class=\"dataframe\">\n",
              "  <thead>\n",
              "    <tr style=\"text-align: right;\">\n",
              "      <th></th>\n",
              "      <th>loc</th>\n",
              "      <th>id</th>\n",
              "      <th>labels</th>\n",
              "    </tr>\n",
              "  </thead>\n",
              "  <tbody>\n",
              "    <tr>\n",
              "      <th>8120</th>\n",
              "      <td>0</td>\n",
              "      <td>b3c22</td>\n",
              "      <td>अफिसमा भने</td>\n",
              "    </tr>\n",
              "    <tr>\n",
              "      <th>19886</th>\n",
              "      <td>0</td>\n",
              "      <td>f6b2d</td>\n",
              "      <td>उनले परशुरामलाई यस्तो</td>\n",
              "    </tr>\n",
              "    <tr>\n",
              "      <th>23498</th>\n",
              "      <td>0</td>\n",
              "      <td>22333</td>\n",
              "      <td>एउटा बयान</td>\n",
              "    </tr>\n",
              "    <tr>\n",
              "      <th>36351</th>\n",
              "      <td>0</td>\n",
              "      <td>09eb9</td>\n",
              "      <td>क्रुद्ध भइन्</td>\n",
              "    </tr>\n",
              "    <tr>\n",
              "      <th>37960</th>\n",
              "      <td>0</td>\n",
              "      <td>90c1c</td>\n",
              "      <td>खुर भएका जनावरहरूलाई</td>\n",
              "    </tr>\n",
              "    <tr>\n",
              "      <th>81094</th>\n",
              "      <td>0</td>\n",
              "      <td>4d069</td>\n",
              "      <td>पनिर बिक्री हुन्छ</td>\n",
              "    </tr>\n",
              "    <tr>\n",
              "      <th>83853</th>\n",
              "      <td>0</td>\n",
              "      <td>963b9</td>\n",
              "      <td>पहिलो लक्ष्य हुने</td>\n",
              "    </tr>\n",
              "    <tr>\n",
              "      <th>84072</th>\n",
              "      <td>0</td>\n",
              "      <td>056c7</td>\n",
              "      <td>पाउन सक्छौं</td>\n",
              "    </tr>\n",
              "    <tr>\n",
              "      <th>84263</th>\n",
              "      <td>0</td>\n",
              "      <td>8272f</td>\n",
              "      <td>पाखो बिराउन थाले</td>\n",
              "    </tr>\n",
              "    <tr>\n",
              "      <th>95612</th>\n",
              "      <td>0</td>\n",
              "      <td>9f669</td>\n",
              "      <td>बसेर खान्छन्</td>\n",
              "    </tr>\n",
              "    <tr>\n",
              "      <th>95695</th>\n",
              "      <td>0</td>\n",
              "      <td>f6cb7</td>\n",
              "      <td>बसोवास गर्ने बोटे</td>\n",
              "    </tr>\n",
              "    <tr>\n",
              "      <th>105706</th>\n",
              "      <td>0</td>\n",
              "      <td>5d5fe</td>\n",
              "      <td>म विधवा</td>\n",
              "    </tr>\n",
              "    <tr>\n",
              "      <th>107326</th>\n",
              "      <td>0</td>\n",
              "      <td>95635</td>\n",
              "      <td>मात्र रहेको खलङ्गामा</td>\n",
              "    </tr>\n",
              "    <tr>\n",
              "      <th>116277</th>\n",
              "      <td>0</td>\n",
              "      <td>8f7f7</td>\n",
              "      <td>यस हेतुले उनले</td>\n",
              "    </tr>\n",
              "    <tr>\n",
              "      <th>123325</th>\n",
              "      <td>0</td>\n",
              "      <td>f6cb7</td>\n",
              "      <td>र प्रशासनिक संवैधानिक</td>\n",
              "    </tr>\n",
              "    <tr>\n",
              "      <th>127810</th>\n",
              "      <td>0</td>\n",
              "      <td>c0b92</td>\n",
              "      <td>रूपान्तर गर्नु</td>\n",
              "    </tr>\n",
              "    <tr>\n",
              "      <th>140670</th>\n",
              "      <td>0</td>\n",
              "      <td>fd59f</td>\n",
              "      <td>सञ्चालन गर्दछ्न्</td>\n",
              "    </tr>\n",
              "  </tbody>\n",
              "</table>\n",
              "</div>\n",
              "      <button class=\"colab-df-convert\" onclick=\"convertToInteractive('df-21b5cee8-cd99-48db-846e-b2d400609b6b')\"\n",
              "              title=\"Convert this dataframe to an interactive table.\"\n",
              "              style=\"display:none;\">\n",
              "        \n",
              "  <svg xmlns=\"http://www.w3.org/2000/svg\" height=\"24px\"viewBox=\"0 0 24 24\"\n",
              "       width=\"24px\">\n",
              "    <path d=\"M0 0h24v24H0V0z\" fill=\"none\"/>\n",
              "    <path d=\"M18.56 5.44l.94 2.06.94-2.06 2.06-.94-2.06-.94-.94-2.06-.94 2.06-2.06.94zm-11 1L8.5 8.5l.94-2.06 2.06-.94-2.06-.94L8.5 2.5l-.94 2.06-2.06.94zm10 10l.94 2.06.94-2.06 2.06-.94-2.06-.94-.94-2.06-.94 2.06-2.06.94z\"/><path d=\"M17.41 7.96l-1.37-1.37c-.4-.4-.92-.59-1.43-.59-.52 0-1.04.2-1.43.59L10.3 9.45l-7.72 7.72c-.78.78-.78 2.05 0 2.83L4 21.41c.39.39.9.59 1.41.59.51 0 1.02-.2 1.41-.59l7.78-7.78 2.81-2.81c.8-.78.8-2.07 0-2.86zM5.41 20L4 18.59l7.72-7.72 1.47 1.35L5.41 20z\"/>\n",
              "  </svg>\n",
              "      </button>\n",
              "      \n",
              "  <style>\n",
              "    .colab-df-container {\n",
              "      display:flex;\n",
              "      flex-wrap:wrap;\n",
              "      gap: 12px;\n",
              "    }\n",
              "\n",
              "    .colab-df-convert {\n",
              "      background-color: #E8F0FE;\n",
              "      border: none;\n",
              "      border-radius: 50%;\n",
              "      cursor: pointer;\n",
              "      display: none;\n",
              "      fill: #1967D2;\n",
              "      height: 32px;\n",
              "      padding: 0 0 0 0;\n",
              "      width: 32px;\n",
              "    }\n",
              "\n",
              "    .colab-df-convert:hover {\n",
              "      background-color: #E2EBFA;\n",
              "      box-shadow: 0px 1px 2px rgba(60, 64, 67, 0.3), 0px 1px 3px 1px rgba(60, 64, 67, 0.15);\n",
              "      fill: #174EA6;\n",
              "    }\n",
              "\n",
              "    [theme=dark] .colab-df-convert {\n",
              "      background-color: #3B4455;\n",
              "      fill: #D2E3FC;\n",
              "    }\n",
              "\n",
              "    [theme=dark] .colab-df-convert:hover {\n",
              "      background-color: #434B5C;\n",
              "      box-shadow: 0px 1px 3px 1px rgba(0, 0, 0, 0.15);\n",
              "      filter: drop-shadow(0px 1px 2px rgba(0, 0, 0, 0.3));\n",
              "      fill: #FFFFFF;\n",
              "    }\n",
              "  </style>\n",
              "\n",
              "      <script>\n",
              "        const buttonEl =\n",
              "          document.querySelector('#df-21b5cee8-cd99-48db-846e-b2d400609b6b button.colab-df-convert');\n",
              "        buttonEl.style.display =\n",
              "          google.colab.kernel.accessAllowed ? 'block' : 'none';\n",
              "\n",
              "        async function convertToInteractive(key) {\n",
              "          const element = document.querySelector('#df-21b5cee8-cd99-48db-846e-b2d400609b6b');\n",
              "          const dataTable =\n",
              "            await google.colab.kernel.invokeFunction('convertToInteractive',\n",
              "                                                     [key], {});\n",
              "          if (!dataTable) return;\n",
              "\n",
              "          const docLinkHtml = 'Like what you see? Visit the ' +\n",
              "            '<a target=\"_blank\" href=https://colab.research.google.com/notebooks/data_table.ipynb>data table notebook</a>'\n",
              "            + ' to learn more about interactive tables.';\n",
              "          element.innerHTML = '';\n",
              "          dataTable['output_type'] = 'display_data';\n",
              "          await google.colab.output.renderOutput(dataTable, element);\n",
              "          const docLink = document.createElement('div');\n",
              "          docLink.innerHTML = docLinkHtml;\n",
              "          element.appendChild(docLink);\n",
              "        }\n",
              "      </script>\n",
              "    </div>\n",
              "  </div>\n",
              "  "
            ],
            "text/plain": [
              "       loc     id                 labels\n",
              "8120     0  b3c22             अफिसमा भने\n",
              "19886    0  f6b2d  उनले परशुरामलाई यस्तो\n",
              "23498    0  22333              एउटा बयान\n",
              "36351    0  09eb9           क्रुद्ध भइन्\n",
              "37960    0  90c1c   खुर भएका जनावरहरूलाई\n",
              "81094    0  4d069      पनिर बिक्री हुन्छ\n",
              "83853    0  963b9      पहिलो लक्ष्य हुने\n",
              "84072    0  056c7            पाउन सक्छौं\n",
              "84263    0  8272f       पाखो बिराउन थाले\n",
              "95612    0  9f669           बसेर खान्छन्\n",
              "95695    0  f6cb7      बसोवास गर्ने बोटे\n",
              "105706   0  5d5fe                म विधवा\n",
              "107326   0  95635   मात्र रहेको खलङ्गामा\n",
              "116277   0  8f7f7         यस हेतुले उनले\n",
              "123325   0  f6cb7  र प्रशासनिक संवैधानिक\n",
              "127810   0  c0b92         रूपान्तर गर्नु\n",
              "140670   0  fd59f       सञ्चालन गर्दछ्न्"
            ]
          },
          "execution_count": 42,
          "metadata": {},
          "output_type": "execute_result"
        }
      ],
      "source": [
        "all_data_pd.loc[all_data_pd['loc']=='0']"
      ]
    },
    {
      "cell_type": "code",
      "execution_count": 27,
      "metadata": {
        "colab": {
          "base_uri": "https://localhost:8080/",
          "height": 424
        },
        "id": "ClBF3JtSyiNU",
        "outputId": "16f0f0ed-bb70-4702-c4dd-37b838cfd17f"
      },
      "outputs": [
        {
          "data": {
            "text/html": [
              "\n",
              "  <div id=\"df-935e9bf8-cedf-4403-88d4-7e8b5c59f1e2\">\n",
              "    <div class=\"colab-df-container\">\n",
              "      <div>\n",
              "<style scoped>\n",
              "    .dataframe tbody tr th:only-of-type {\n",
              "        vertical-align: middle;\n",
              "    }\n",
              "\n",
              "    .dataframe tbody tr th {\n",
              "        vertical-align: top;\n",
              "    }\n",
              "\n",
              "    .dataframe thead th {\n",
              "        text-align: right;\n",
              "    }\n",
              "</style>\n",
              "<table border=\"1\" class=\"dataframe\">\n",
              "  <thead>\n",
              "    <tr style=\"text-align: right;\">\n",
              "      <th></th>\n",
              "      <th>loc</th>\n",
              "      <th>id</th>\n",
              "      <th>labels</th>\n",
              "    </tr>\n",
              "  </thead>\n",
              "  <tbody>\n",
              "    <tr>\n",
              "      <th>127810</th>\n",
              "      <td>0</td>\n",
              "      <td>c0b92</td>\n",
              "      <td>रूपान्तर गर्नु</td>\n",
              "    </tr>\n",
              "    <tr>\n",
              "      <th>140670</th>\n",
              "      <td>0</td>\n",
              "      <td>fd59f</td>\n",
              "      <td>सञ्चालन गर्दछ्न्</td>\n",
              "    </tr>\n",
              "    <tr>\n",
              "      <th>81094</th>\n",
              "      <td>0</td>\n",
              "      <td>4d069</td>\n",
              "      <td>पनिर बिक्री हुन्छ</td>\n",
              "    </tr>\n",
              "    <tr>\n",
              "      <th>84072</th>\n",
              "      <td>0</td>\n",
              "      <td>056c7</td>\n",
              "      <td>पाउन सक्छौं</td>\n",
              "    </tr>\n",
              "    <tr>\n",
              "      <th>95612</th>\n",
              "      <td>0</td>\n",
              "      <td>9f669</td>\n",
              "      <td>बसेर खान्छन्</td>\n",
              "    </tr>\n",
              "    <tr>\n",
              "      <th>...</th>\n",
              "      <td>...</td>\n",
              "      <td>...</td>\n",
              "      <td>...</td>\n",
              "    </tr>\n",
              "    <tr>\n",
              "      <th>37788</th>\n",
              "      <td>fffe93ed54</td>\n",
              "      <td>09eb9</td>\n",
              "      <td>खाल्डो खनी पोखरीको</td>\n",
              "    </tr>\n",
              "    <tr>\n",
              "      <th>130255</th>\n",
              "      <td>ffff8b1260</td>\n",
              "      <td>e4596</td>\n",
              "      <td>लामो हुन्छ</td>\n",
              "    </tr>\n",
              "    <tr>\n",
              "      <th>126935</th>\n",
              "      <td>ffffc0c531</td>\n",
              "      <td>d0cd7</td>\n",
              "      <td>रिहा गराउनको आमाग</td>\n",
              "    </tr>\n",
              "    <tr>\n",
              "      <th>114317</th>\n",
              "      <td>fffff63362</td>\n",
              "      <td>7ef78</td>\n",
              "      <td>यस पर्वमा चोखो</td>\n",
              "    </tr>\n",
              "    <tr>\n",
              "      <th>28115</th>\n",
              "      <td>fffff812f5</td>\n",
              "      <td>89bd3</td>\n",
              "      <td>कला पढाइसकेका अनुभवी</td>\n",
              "    </tr>\n",
              "  </tbody>\n",
              "</table>\n",
              "<p>157905 rows × 3 columns</p>\n",
              "</div>\n",
              "      <button class=\"colab-df-convert\" onclick=\"convertToInteractive('df-935e9bf8-cedf-4403-88d4-7e8b5c59f1e2')\"\n",
              "              title=\"Convert this dataframe to an interactive table.\"\n",
              "              style=\"display:none;\">\n",
              "        \n",
              "  <svg xmlns=\"http://www.w3.org/2000/svg\" height=\"24px\"viewBox=\"0 0 24 24\"\n",
              "       width=\"24px\">\n",
              "    <path d=\"M0 0h24v24H0V0z\" fill=\"none\"/>\n",
              "    <path d=\"M18.56 5.44l.94 2.06.94-2.06 2.06-.94-2.06-.94-.94-2.06-.94 2.06-2.06.94zm-11 1L8.5 8.5l.94-2.06 2.06-.94-2.06-.94L8.5 2.5l-.94 2.06-2.06.94zm10 10l.94 2.06.94-2.06 2.06-.94-2.06-.94-.94-2.06-.94 2.06-2.06.94z\"/><path d=\"M17.41 7.96l-1.37-1.37c-.4-.4-.92-.59-1.43-.59-.52 0-1.04.2-1.43.59L10.3 9.45l-7.72 7.72c-.78.78-.78 2.05 0 2.83L4 21.41c.39.39.9.59 1.41.59.51 0 1.02-.2 1.41-.59l7.78-7.78 2.81-2.81c.8-.78.8-2.07 0-2.86zM5.41 20L4 18.59l7.72-7.72 1.47 1.35L5.41 20z\"/>\n",
              "  </svg>\n",
              "      </button>\n",
              "      \n",
              "  <style>\n",
              "    .colab-df-container {\n",
              "      display:flex;\n",
              "      flex-wrap:wrap;\n",
              "      gap: 12px;\n",
              "    }\n",
              "\n",
              "    .colab-df-convert {\n",
              "      background-color: #E8F0FE;\n",
              "      border: none;\n",
              "      border-radius: 50%;\n",
              "      cursor: pointer;\n",
              "      display: none;\n",
              "      fill: #1967D2;\n",
              "      height: 32px;\n",
              "      padding: 0 0 0 0;\n",
              "      width: 32px;\n",
              "    }\n",
              "\n",
              "    .colab-df-convert:hover {\n",
              "      background-color: #E2EBFA;\n",
              "      box-shadow: 0px 1px 2px rgba(60, 64, 67, 0.3), 0px 1px 3px 1px rgba(60, 64, 67, 0.15);\n",
              "      fill: #174EA6;\n",
              "    }\n",
              "\n",
              "    [theme=dark] .colab-df-convert {\n",
              "      background-color: #3B4455;\n",
              "      fill: #D2E3FC;\n",
              "    }\n",
              "\n",
              "    [theme=dark] .colab-df-convert:hover {\n",
              "      background-color: #434B5C;\n",
              "      box-shadow: 0px 1px 3px 1px rgba(0, 0, 0, 0.15);\n",
              "      filter: drop-shadow(0px 1px 2px rgba(0, 0, 0, 0.3));\n",
              "      fill: #FFFFFF;\n",
              "    }\n",
              "  </style>\n",
              "\n",
              "      <script>\n",
              "        const buttonEl =\n",
              "          document.querySelector('#df-935e9bf8-cedf-4403-88d4-7e8b5c59f1e2 button.colab-df-convert');\n",
              "        buttonEl.style.display =\n",
              "          google.colab.kernel.accessAllowed ? 'block' : 'none';\n",
              "\n",
              "        async function convertToInteractive(key) {\n",
              "          const element = document.querySelector('#df-935e9bf8-cedf-4403-88d4-7e8b5c59f1e2');\n",
              "          const dataTable =\n",
              "            await google.colab.kernel.invokeFunction('convertToInteractive',\n",
              "                                                     [key], {});\n",
              "          if (!dataTable) return;\n",
              "\n",
              "          const docLinkHtml = 'Like what you see? Visit the ' +\n",
              "            '<a target=\"_blank\" href=https://colab.research.google.com/notebooks/data_table.ipynb>data table notebook</a>'\n",
              "            + ' to learn more about interactive tables.';\n",
              "          element.innerHTML = '';\n",
              "          dataTable['output_type'] = 'display_data';\n",
              "          await google.colab.output.renderOutput(dataTable, element);\n",
              "          const docLink = document.createElement('div');\n",
              "          docLink.innerHTML = docLinkHtml;\n",
              "          element.appendChild(docLink);\n",
              "        }\n",
              "      </script>\n",
              "    </div>\n",
              "  </div>\n",
              "  "
            ],
            "text/plain": [
              "               loc     id                labels\n",
              "127810           0  c0b92        रूपान्तर गर्नु\n",
              "140670           0  fd59f      सञ्चालन गर्दछ्न्\n",
              "81094            0  4d069     पनिर बिक्री हुन्छ\n",
              "84072            0  056c7           पाउन सक्छौं\n",
              "95612            0  9f669          बसेर खान्छन्\n",
              "...            ...    ...                   ...\n",
              "37788   fffe93ed54  09eb9    खाल्डो खनी पोखरीको\n",
              "130255  ffff8b1260  e4596            लामो हुन्छ\n",
              "126935  ffffc0c531  d0cd7     रिहा गराउनको आमाग\n",
              "114317  fffff63362  7ef78        यस पर्वमा चोखो\n",
              "28115   fffff812f5  89bd3  कला पढाइसकेका अनुभवी\n",
              "\n",
              "[157905 rows x 3 columns]"
            ]
          },
          "execution_count": 27,
          "metadata": {},
          "output_type": "execute_result"
        }
      ],
      "source": [
        "all_data_pd.sort_values(by='loc')"
      ]
    },
    {
      "cell_type": "code",
      "execution_count": 12,
      "metadata": {
        "colab": {
          "base_uri": "https://localhost:8080/",
          "height": 389
        },
        "id": "aLN_D7aKTjLy",
        "outputId": "d77f634d-f3c8-4377-f77d-c4dd33bff3a5"
      },
      "outputs": [
        {
          "data": {
            "text/html": [
              "\n",
              "  <div id=\"df-f7a58147-50e7-4aff-897f-d4c0246abdd8\">\n",
              "    <div class=\"colab-df-container\">\n",
              "      <div>\n",
              "<style scoped>\n",
              "    .dataframe tbody tr th:only-of-type {\n",
              "        vertical-align: middle;\n",
              "    }\n",
              "\n",
              "    .dataframe tbody tr th {\n",
              "        vertical-align: top;\n",
              "    }\n",
              "\n",
              "    .dataframe thead th {\n",
              "        text-align: right;\n",
              "    }\n",
              "</style>\n",
              "<table border=\"1\" class=\"dataframe\">\n",
              "  <thead>\n",
              "    <tr style=\"text-align: right;\">\n",
              "      <th></th>\n",
              "      <th>Unnamed: 0</th>\n",
              "      <th>Unnamed: 0.1</th>\n",
              "      <th>loc</th>\n",
              "      <th>id</th>\n",
              "      <th>labels</th>\n",
              "      <th>loc_valid</th>\n",
              "    </tr>\n",
              "  </thead>\n",
              "  <tbody>\n",
              "    <tr>\n",
              "      <th>0</th>\n",
              "      <td>0</td>\n",
              "      <td>72325</td>\n",
              "      <td>../input/large-nepali-asr/openslr/6f/6f0ac1d1c...</td>\n",
              "      <td>5cef8</td>\n",
              "      <td>नगर छाडेर बनौधिया</td>\n",
              "      <td>True</td>\n",
              "    </tr>\n",
              "    <tr>\n",
              "      <th>1</th>\n",
              "      <td>2</td>\n",
              "      <td>31102</td>\n",
              "      <td>../input/large-nepali-asr/openslr/4b/4ba42b198...</td>\n",
              "      <td>ce4af</td>\n",
              "      <td>कार्यालयले गरेको छ</td>\n",
              "      <td>True</td>\n",
              "    </tr>\n",
              "    <tr>\n",
              "      <th>2</th>\n",
              "      <td>4</td>\n",
              "      <td>107894</td>\n",
              "      <td>../input/large-nepali-asr/openslr/59/59667de30...</td>\n",
              "      <td>1d75d</td>\n",
              "      <td>मानिसले गोमन सर्पलाई</td>\n",
              "      <td>True</td>\n",
              "    </tr>\n",
              "    <tr>\n",
              "      <th>3</th>\n",
              "      <td>5</td>\n",
              "      <td>134193</td>\n",
              "      <td>../input/large-nepali-asr/openslr/60/60d456868...</td>\n",
              "      <td>2a5b1</td>\n",
              "      <td>विज्ञानी जेम्स क्लर्क</td>\n",
              "      <td>True</td>\n",
              "    </tr>\n",
              "    <tr>\n",
              "      <th>4</th>\n",
              "      <td>6</td>\n",
              "      <td>35189</td>\n",
              "      <td>../input/large-nepali-asr/openslr/fb/fbce02b3a...</td>\n",
              "      <td>33783</td>\n",
              "      <td>केही ब्रतालुहरू रातभर</td>\n",
              "      <td>True</td>\n",
              "    </tr>\n",
              "  </tbody>\n",
              "</table>\n",
              "</div>\n",
              "      <button class=\"colab-df-convert\" onclick=\"convertToInteractive('df-f7a58147-50e7-4aff-897f-d4c0246abdd8')\"\n",
              "              title=\"Convert this dataframe to an interactive table.\"\n",
              "              style=\"display:none;\">\n",
              "        \n",
              "  <svg xmlns=\"http://www.w3.org/2000/svg\" height=\"24px\"viewBox=\"0 0 24 24\"\n",
              "       width=\"24px\">\n",
              "    <path d=\"M0 0h24v24H0V0z\" fill=\"none\"/>\n",
              "    <path d=\"M18.56 5.44l.94 2.06.94-2.06 2.06-.94-2.06-.94-.94-2.06-.94 2.06-2.06.94zm-11 1L8.5 8.5l.94-2.06 2.06-.94-2.06-.94L8.5 2.5l-.94 2.06-2.06.94zm10 10l.94 2.06.94-2.06 2.06-.94-2.06-.94-.94-2.06-.94 2.06-2.06.94z\"/><path d=\"M17.41 7.96l-1.37-1.37c-.4-.4-.92-.59-1.43-.59-.52 0-1.04.2-1.43.59L10.3 9.45l-7.72 7.72c-.78.78-.78 2.05 0 2.83L4 21.41c.39.39.9.59 1.41.59.51 0 1.02-.2 1.41-.59l7.78-7.78 2.81-2.81c.8-.78.8-2.07 0-2.86zM5.41 20L4 18.59l7.72-7.72 1.47 1.35L5.41 20z\"/>\n",
              "  </svg>\n",
              "      </button>\n",
              "      \n",
              "  <style>\n",
              "    .colab-df-container {\n",
              "      display:flex;\n",
              "      flex-wrap:wrap;\n",
              "      gap: 12px;\n",
              "    }\n",
              "\n",
              "    .colab-df-convert {\n",
              "      background-color: #E8F0FE;\n",
              "      border: none;\n",
              "      border-radius: 50%;\n",
              "      cursor: pointer;\n",
              "      display: none;\n",
              "      fill: #1967D2;\n",
              "      height: 32px;\n",
              "      padding: 0 0 0 0;\n",
              "      width: 32px;\n",
              "    }\n",
              "\n",
              "    .colab-df-convert:hover {\n",
              "      background-color: #E2EBFA;\n",
              "      box-shadow: 0px 1px 2px rgba(60, 64, 67, 0.3), 0px 1px 3px 1px rgba(60, 64, 67, 0.15);\n",
              "      fill: #174EA6;\n",
              "    }\n",
              "\n",
              "    [theme=dark] .colab-df-convert {\n",
              "      background-color: #3B4455;\n",
              "      fill: #D2E3FC;\n",
              "    }\n",
              "\n",
              "    [theme=dark] .colab-df-convert:hover {\n",
              "      background-color: #434B5C;\n",
              "      box-shadow: 0px 1px 3px 1px rgba(0, 0, 0, 0.15);\n",
              "      filter: drop-shadow(0px 1px 2px rgba(0, 0, 0, 0.3));\n",
              "      fill: #FFFFFF;\n",
              "    }\n",
              "  </style>\n",
              "\n",
              "      <script>\n",
              "        const buttonEl =\n",
              "          document.querySelector('#df-f7a58147-50e7-4aff-897f-d4c0246abdd8 button.colab-df-convert');\n",
              "        buttonEl.style.display =\n",
              "          google.colab.kernel.accessAllowed ? 'block' : 'none';\n",
              "\n",
              "        async function convertToInteractive(key) {\n",
              "          const element = document.querySelector('#df-f7a58147-50e7-4aff-897f-d4c0246abdd8');\n",
              "          const dataTable =\n",
              "            await google.colab.kernel.invokeFunction('convertToInteractive',\n",
              "                                                     [key], {});\n",
              "          if (!dataTable) return;\n",
              "\n",
              "          const docLinkHtml = 'Like what you see? Visit the ' +\n",
              "            '<a target=\"_blank\" href=https://colab.research.google.com/notebooks/data_table.ipynb>data table notebook</a>'\n",
              "            + ' to learn more about interactive tables.';\n",
              "          element.innerHTML = '';\n",
              "          dataTable['output_type'] = 'display_data';\n",
              "          await google.colab.output.renderOutput(dataTable, element);\n",
              "          const docLink = document.createElement('div');\n",
              "          docLink.innerHTML = docLinkHtml;\n",
              "          element.appendChild(docLink);\n",
              "        }\n",
              "      </script>\n",
              "    </div>\n",
              "  </div>\n",
              "  "
            ],
            "text/plain": [
              "   Unnamed: 0  Unnamed: 0.1  \\\n",
              "0           0         72325   \n",
              "1           2         31102   \n",
              "2           4        107894   \n",
              "3           5        134193   \n",
              "4           6         35189   \n",
              "\n",
              "                                                 loc     id  \\\n",
              "0  ../input/large-nepali-asr/openslr/6f/6f0ac1d1c...  5cef8   \n",
              "1  ../input/large-nepali-asr/openslr/4b/4ba42b198...  ce4af   \n",
              "2  ../input/large-nepali-asr/openslr/59/59667de30...  1d75d   \n",
              "3  ../input/large-nepali-asr/openslr/60/60d456868...  2a5b1   \n",
              "4  ../input/large-nepali-asr/openslr/fb/fbce02b3a...  33783   \n",
              "\n",
              "                  labels  loc_valid  \n",
              "0      नगर छाडेर बनौधिया       True  \n",
              "1     कार्यालयले गरेको छ       True  \n",
              "2   मानिसले गोमन सर्पलाई       True  \n",
              "3  विज्ञानी जेम्स क्लर्क       True  \n",
              "4  केही ब्रतालुहरू रातभर       True  "
            ]
          },
          "execution_count": 12,
          "metadata": {},
          "output_type": "execute_result"
        }
      ],
      "source": [
        "train_pd = pd.read_csv(\"shuffled_csv.csv\")\n",
        "train_pd.head()"
      ]
    },
    {
      "cell_type": "code",
      "execution_count": 13,
      "metadata": {
        "colab": {
          "base_uri": "https://localhost:8080/",
          "height": 711
        },
        "id": "95mpCqRMzh2q",
        "outputId": "caceaa8d-d348-4275-fc99-f95e6b81467a"
      },
      "outputs": [
        {
          "data": {
            "text/html": [
              "\n",
              "  <div id=\"df-0fd95e32-5195-4bf9-a04c-76a78b97b979\">\n",
              "    <div class=\"colab-df-container\">\n",
              "      <div>\n",
              "<style scoped>\n",
              "    .dataframe tbody tr th:only-of-type {\n",
              "        vertical-align: middle;\n",
              "    }\n",
              "\n",
              "    .dataframe tbody tr th {\n",
              "        vertical-align: top;\n",
              "    }\n",
              "\n",
              "    .dataframe thead th {\n",
              "        text-align: right;\n",
              "    }\n",
              "</style>\n",
              "<table border=\"1\" class=\"dataframe\">\n",
              "  <thead>\n",
              "    <tr style=\"text-align: right;\">\n",
              "      <th></th>\n",
              "      <th>Unnamed: 0</th>\n",
              "      <th>Unnamed: 0.1</th>\n",
              "      <th>loc</th>\n",
              "      <th>id</th>\n",
              "      <th>labels</th>\n",
              "      <th>loc_valid</th>\n",
              "    </tr>\n",
              "  </thead>\n",
              "  <tbody>\n",
              "    <tr>\n",
              "      <th>65939</th>\n",
              "      <td>69349</td>\n",
              "      <td>10174</td>\n",
              "      <td>../input/large-nepali-asr/openslr/00/0000c0f43...</td>\n",
              "      <td>5bc3b</td>\n",
              "      <td>अवस्थालाई ज्योतिषमा</td>\n",
              "      <td>True</td>\n",
              "    </tr>\n",
              "    <tr>\n",
              "      <th>130624</th>\n",
              "      <td>137472</td>\n",
              "      <td>86943</td>\n",
              "      <td>../input/large-nepali-asr/openslr/00/00014b678...</td>\n",
              "      <td>c7f92</td>\n",
              "      <td>पूर्वक पूजा आराधना</td>\n",
              "      <td>True</td>\n",
              "    </tr>\n",
              "    <tr>\n",
              "      <th>88633</th>\n",
              "      <td>93262</td>\n",
              "      <td>94921</td>\n",
              "      <td>../input/large-nepali-asr/openslr/00/0001b0e4b...</td>\n",
              "      <td>693c5</td>\n",
              "      <td>बनेको कुचो</td>\n",
              "      <td>True</td>\n",
              "    </tr>\n",
              "    <tr>\n",
              "      <th>113707</th>\n",
              "      <td>119655</td>\n",
              "      <td>88603</td>\n",
              "      <td>../input/large-nepali-asr/openslr/00/0001cf394...</td>\n",
              "      <td>b66ee</td>\n",
              "      <td>प्रकाश पार्न उपमा</td>\n",
              "      <td>True</td>\n",
              "    </tr>\n",
              "    <tr>\n",
              "      <th>52879</th>\n",
              "      <td>55587</td>\n",
              "      <td>69055</td>\n",
              "      <td>../input/large-nepali-asr/openslr/00/00024e9ee...</td>\n",
              "      <td>79c24</td>\n",
              "      <td>दुष्यन्तका नजिक पुग्दछन्</td>\n",
              "      <td>True</td>\n",
              "    </tr>\n",
              "    <tr>\n",
              "      <th>...</th>\n",
              "      <td>...</td>\n",
              "      <td>...</td>\n",
              "      <td>...</td>\n",
              "      <td>...</td>\n",
              "      <td>...</td>\n",
              "      <td>...</td>\n",
              "    </tr>\n",
              "    <tr>\n",
              "      <th>11515</th>\n",
              "      <td>12120</td>\n",
              "      <td>37788</td>\n",
              "      <td>../input/large-nepali-asr/openslr/ff/fffe93ed5...</td>\n",
              "      <td>09eb9</td>\n",
              "      <td>खाल्डो खनी पोखरीको</td>\n",
              "      <td>True</td>\n",
              "    </tr>\n",
              "    <tr>\n",
              "      <th>6915</th>\n",
              "      <td>7278</td>\n",
              "      <td>130255</td>\n",
              "      <td>../input/large-nepali-asr/openslr/ff/ffff8b126...</td>\n",
              "      <td>e4596</td>\n",
              "      <td>लामो हुन्छ</td>\n",
              "      <td>True</td>\n",
              "    </tr>\n",
              "    <tr>\n",
              "      <th>73247</th>\n",
              "      <td>77034</td>\n",
              "      <td>126935</td>\n",
              "      <td>../input/large-nepali-asr/openslr/ff/ffffc0c53...</td>\n",
              "      <td>d0cd7</td>\n",
              "      <td>रिहा गराउनको आमाग</td>\n",
              "      <td>True</td>\n",
              "    </tr>\n",
              "    <tr>\n",
              "      <th>78793</th>\n",
              "      <td>82866</td>\n",
              "      <td>114317</td>\n",
              "      <td>../input/large-nepali-asr/openslr/ff/fffff6336...</td>\n",
              "      <td>7ef78</td>\n",
              "      <td>यस पर्वमा चोखो</td>\n",
              "      <td>True</td>\n",
              "    </tr>\n",
              "    <tr>\n",
              "      <th>47567</th>\n",
              "      <td>50012</td>\n",
              "      <td>28115</td>\n",
              "      <td>../input/large-nepali-asr/openslr/ff/fffff812f...</td>\n",
              "      <td>89bd3</td>\n",
              "      <td>कला पढाइसकेका अनुभवी</td>\n",
              "      <td>True</td>\n",
              "    </tr>\n",
              "  </tbody>\n",
              "</table>\n",
              "<p>149988 rows × 6 columns</p>\n",
              "</div>\n",
              "      <button class=\"colab-df-convert\" onclick=\"convertToInteractive('df-0fd95e32-5195-4bf9-a04c-76a78b97b979')\"\n",
              "              title=\"Convert this dataframe to an interactive table.\"\n",
              "              style=\"display:none;\">\n",
              "        \n",
              "  <svg xmlns=\"http://www.w3.org/2000/svg\" height=\"24px\"viewBox=\"0 0 24 24\"\n",
              "       width=\"24px\">\n",
              "    <path d=\"M0 0h24v24H0V0z\" fill=\"none\"/>\n",
              "    <path d=\"M18.56 5.44l.94 2.06.94-2.06 2.06-.94-2.06-.94-.94-2.06-.94 2.06-2.06.94zm-11 1L8.5 8.5l.94-2.06 2.06-.94-2.06-.94L8.5 2.5l-.94 2.06-2.06.94zm10 10l.94 2.06.94-2.06 2.06-.94-2.06-.94-.94-2.06-.94 2.06-2.06.94z\"/><path d=\"M17.41 7.96l-1.37-1.37c-.4-.4-.92-.59-1.43-.59-.52 0-1.04.2-1.43.59L10.3 9.45l-7.72 7.72c-.78.78-.78 2.05 0 2.83L4 21.41c.39.39.9.59 1.41.59.51 0 1.02-.2 1.41-.59l7.78-7.78 2.81-2.81c.8-.78.8-2.07 0-2.86zM5.41 20L4 18.59l7.72-7.72 1.47 1.35L5.41 20z\"/>\n",
              "  </svg>\n",
              "      </button>\n",
              "      \n",
              "  <style>\n",
              "    .colab-df-container {\n",
              "      display:flex;\n",
              "      flex-wrap:wrap;\n",
              "      gap: 12px;\n",
              "    }\n",
              "\n",
              "    .colab-df-convert {\n",
              "      background-color: #E8F0FE;\n",
              "      border: none;\n",
              "      border-radius: 50%;\n",
              "      cursor: pointer;\n",
              "      display: none;\n",
              "      fill: #1967D2;\n",
              "      height: 32px;\n",
              "      padding: 0 0 0 0;\n",
              "      width: 32px;\n",
              "    }\n",
              "\n",
              "    .colab-df-convert:hover {\n",
              "      background-color: #E2EBFA;\n",
              "      box-shadow: 0px 1px 2px rgba(60, 64, 67, 0.3), 0px 1px 3px 1px rgba(60, 64, 67, 0.15);\n",
              "      fill: #174EA6;\n",
              "    }\n",
              "\n",
              "    [theme=dark] .colab-df-convert {\n",
              "      background-color: #3B4455;\n",
              "      fill: #D2E3FC;\n",
              "    }\n",
              "\n",
              "    [theme=dark] .colab-df-convert:hover {\n",
              "      background-color: #434B5C;\n",
              "      box-shadow: 0px 1px 3px 1px rgba(0, 0, 0, 0.15);\n",
              "      filter: drop-shadow(0px 1px 2px rgba(0, 0, 0, 0.3));\n",
              "      fill: #FFFFFF;\n",
              "    }\n",
              "  </style>\n",
              "\n",
              "      <script>\n",
              "        const buttonEl =\n",
              "          document.querySelector('#df-0fd95e32-5195-4bf9-a04c-76a78b97b979 button.colab-df-convert');\n",
              "        buttonEl.style.display =\n",
              "          google.colab.kernel.accessAllowed ? 'block' : 'none';\n",
              "\n",
              "        async function convertToInteractive(key) {\n",
              "          const element = document.querySelector('#df-0fd95e32-5195-4bf9-a04c-76a78b97b979');\n",
              "          const dataTable =\n",
              "            await google.colab.kernel.invokeFunction('convertToInteractive',\n",
              "                                                     [key], {});\n",
              "          if (!dataTable) return;\n",
              "\n",
              "          const docLinkHtml = 'Like what you see? Visit the ' +\n",
              "            '<a target=\"_blank\" href=https://colab.research.google.com/notebooks/data_table.ipynb>data table notebook</a>'\n",
              "            + ' to learn more about interactive tables.';\n",
              "          element.innerHTML = '';\n",
              "          dataTable['output_type'] = 'display_data';\n",
              "          await google.colab.output.renderOutput(dataTable, element);\n",
              "          const docLink = document.createElement('div');\n",
              "          docLink.innerHTML = docLinkHtml;\n",
              "          element.appendChild(docLink);\n",
              "        }\n",
              "      </script>\n",
              "    </div>\n",
              "  </div>\n",
              "  "
            ],
            "text/plain": [
              "        Unnamed: 0  Unnamed: 0.1  \\\n",
              "65939        69349         10174   \n",
              "130624      137472         86943   \n",
              "88633        93262         94921   \n",
              "113707      119655         88603   \n",
              "52879        55587         69055   \n",
              "...            ...           ...   \n",
              "11515        12120         37788   \n",
              "6915          7278        130255   \n",
              "73247        77034        126935   \n",
              "78793        82866        114317   \n",
              "47567        50012         28115   \n",
              "\n",
              "                                                      loc     id  \\\n",
              "65939   ../input/large-nepali-asr/openslr/00/0000c0f43...  5bc3b   \n",
              "130624  ../input/large-nepali-asr/openslr/00/00014b678...  c7f92   \n",
              "88633   ../input/large-nepali-asr/openslr/00/0001b0e4b...  693c5   \n",
              "113707  ../input/large-nepali-asr/openslr/00/0001cf394...  b66ee   \n",
              "52879   ../input/large-nepali-asr/openslr/00/00024e9ee...  79c24   \n",
              "...                                                   ...    ...   \n",
              "11515   ../input/large-nepali-asr/openslr/ff/fffe93ed5...  09eb9   \n",
              "6915    ../input/large-nepali-asr/openslr/ff/ffff8b126...  e4596   \n",
              "73247   ../input/large-nepali-asr/openslr/ff/ffffc0c53...  d0cd7   \n",
              "78793   ../input/large-nepali-asr/openslr/ff/fffff6336...  7ef78   \n",
              "47567   ../input/large-nepali-asr/openslr/ff/fffff812f...  89bd3   \n",
              "\n",
              "                          labels  loc_valid  \n",
              "65939        अवस्थालाई ज्योतिषमा       True  \n",
              "130624        पूर्वक पूजा आराधना       True  \n",
              "88633                 बनेको कुचो       True  \n",
              "113707         प्रकाश पार्न उपमा       True  \n",
              "52879   दुष्यन्तका नजिक पुग्दछन्       True  \n",
              "...                          ...        ...  \n",
              "11515         खाल्डो खनी पोखरीको       True  \n",
              "6915                  लामो हुन्छ       True  \n",
              "73247          रिहा गराउनको आमाग       True  \n",
              "78793             यस पर्वमा चोखो       True  \n",
              "47567       कला पढाइसकेका अनुभवी       True  \n",
              "\n",
              "[149988 rows x 6 columns]"
            ]
          },
          "execution_count": 13,
          "metadata": {},
          "output_type": "execute_result"
        }
      ],
      "source": [
        "train_pd.sort_values(by='loc')"
      ]
    },
    {
      "cell_type": "code",
      "execution_count": 44,
      "metadata": {
        "colab": {
          "base_uri": "https://localhost:8080/",
          "height": 305
        },
        "id": "zN2h-3bG5iUq",
        "outputId": "d6885680-2e32-4227-c743-e55672c9410c"
      },
      "outputs": [
        {
          "ename": "AttributeError",
          "evalue": "ignored",
          "output_type": "error",
          "traceback": [
            "\u001b[0;31m---------------------------------------------------------------------------\u001b[0m",
            "\u001b[0;31mAttributeError\u001b[0m                            Traceback (most recent call last)",
            "\u001b[0;32m<ipython-input-44-d495d35419d4>\u001b[0m in \u001b[0;36m<module>\u001b[0;34m()\u001b[0m\n\u001b[0;32m----> 1\u001b[0;31m \u001b[0mtrain_pd\u001b[0m\u001b[0;34m.\u001b[0m\u001b[0misna\u001b[0m\u001b[0;34m(\u001b[0m\u001b[0;34m)\u001b[0m\u001b[0;34m.\u001b[0m\u001b[0msm\u001b[0m\u001b[0;34m(\u001b[0m\u001b[0;34m)\u001b[0m\u001b[0;34m\u001b[0m\u001b[0;34m\u001b[0m\u001b[0m\n\u001b[0m",
            "\u001b[0;32m/usr/local/lib/python3.7/dist-packages/pandas/core/generic.py\u001b[0m in \u001b[0;36m__getattr__\u001b[0;34m(self, name)\u001b[0m\n\u001b[1;32m   5485\u001b[0m         ):\n\u001b[1;32m   5486\u001b[0m             \u001b[0;32mreturn\u001b[0m \u001b[0mself\u001b[0m\u001b[0;34m[\u001b[0m\u001b[0mname\u001b[0m\u001b[0;34m]\u001b[0m\u001b[0;34m\u001b[0m\u001b[0;34m\u001b[0m\u001b[0m\n\u001b[0;32m-> 5487\u001b[0;31m         \u001b[0;32mreturn\u001b[0m \u001b[0mobject\u001b[0m\u001b[0;34m.\u001b[0m\u001b[0m__getattribute__\u001b[0m\u001b[0;34m(\u001b[0m\u001b[0mself\u001b[0m\u001b[0;34m,\u001b[0m \u001b[0mname\u001b[0m\u001b[0;34m)\u001b[0m\u001b[0;34m\u001b[0m\u001b[0;34m\u001b[0m\u001b[0m\n\u001b[0m\u001b[1;32m   5488\u001b[0m \u001b[0;34m\u001b[0m\u001b[0m\n\u001b[1;32m   5489\u001b[0m     \u001b[0;32mdef\u001b[0m \u001b[0m__setattr__\u001b[0m\u001b[0;34m(\u001b[0m\u001b[0mself\u001b[0m\u001b[0;34m,\u001b[0m \u001b[0mname\u001b[0m\u001b[0;34m:\u001b[0m \u001b[0mstr\u001b[0m\u001b[0;34m,\u001b[0m \u001b[0mvalue\u001b[0m\u001b[0;34m)\u001b[0m \u001b[0;34m->\u001b[0m \u001b[0;32mNone\u001b[0m\u001b[0;34m:\u001b[0m\u001b[0;34m\u001b[0m\u001b[0;34m\u001b[0m\u001b[0m\n",
            "\u001b[0;31mAttributeError\u001b[0m: 'DataFrame' object has no attribute 'sm'"
          ]
        }
      ],
      "source": [
        "train_pd.isna().sum()"
      ]
    },
    {
      "cell_type": "code",
      "execution_count": null,
      "metadata": {
        "colab": {
          "base_uri": "https://localhost:8080/"
        },
        "id": "mdPDB7a0krNS",
        "outputId": "e84c7225-c431-400c-921b-47171b93acb1"
      },
      "outputs": [
        {
          "name": "stdout",
          "output_type": "stream",
          "text": [
            "Index(['loc', 'id', 'loc_valid'], dtype='object')\n"
          ]
        }
      ],
      "source": [
        "y =  train_pd[\"labels\"]\n",
        "x = train_pd.drop([\"Unnamed: 0\",\"Unnamed: 0.1\",\"labels\"],axis=1)\n",
        "print(x.columns)"
      ]
    },
    {
      "cell_type": "code",
      "execution_count": null,
      "metadata": {
        "id": "KvHeCVNQY1vp"
      },
      "outputs": [],
      "source": [
        "from sklearn.model_selection import train_test_split\n",
        "train_dataset, test_dataset = train_test_split(train_pd,test_size=0.3, random_state=42)"
      ]
    },
    {
      "cell_type": "code",
      "execution_count": null,
      "metadata": {
        "colab": {
          "base_uri": "https://localhost:8080/"
        },
        "id": "AYpAYc0lkppK",
        "outputId": "7eb5c103-c4fe-4a0a-f357-f0bb114876d2"
      },
      "outputs": [
        {
          "name": "stdout",
          "output_type": "stream",
          "text": [
            "{\"क\": 1, \"ख\": 2, \"ग\": 3, \"घ\": 4, \"ङ\": 5, \"च\": 6, \"छ\": 7, \"ज\": 8, \"झ\": 9, \"ञ\": 10, \"ट\": 11, \"ठ\": 12, \"ड\": 13, \"ढ\": 14, \"ण\": 15, \"त\": 16, \"थ\": 17, \"द\": 18, \"ध\": 19, \"न\": 20, \"प\": 21, \"फ\": 22, \"ब\": 23, \"भ\": 24, \"म\": 25, \"य\": 26, \"र\": 27, \"ल\": 28, \"व\": 29, \"श\": 30, \"ष\": 31, \"स\": 32, \"ह\": 33, \"क्ष\": 34, \"ज्ञ\": 35, \"अ\": 36, \"आ\": 37, \"इ\": 38, \"ई\": 39, \"उ\": 40, \"ऊ\": 41, \"ए\": 42, \"ऐ\": 43, \"ओ\": 44, \"औ\": 45, \"०\": 46, \"१\": 47, \"२\": 48, \"३\": 49, \"४\": 50, \"५\": 51, \"६\": 52, \"७\": 53, \"८\": 54, \"९\": 55, \"।\": 56, \"'\": 57, \"ं\": 58, \"ँ\": 59, \"्\": 60, \"ृ\": 61, \"ू\": 62, \"ी\": 63, \"ौ\": 64, \"ो\": 65, \"ा\": 66, \"ि\": 67, \"ऋ\": 68, \"!\": 69, \"‍\": 70, \"ै\": 71, \"ॠ\": 72, \"े\": 73, \"‌\": 74, \"ः\": 75, \"ु\": 76, \"|\": 0, \"[UNK]\": 77, \"[PAD]\": 78}\n"
          ]
        }
      ],
      "source": [
        "vocab_dict = open(\"vocab.json\", \"r\")\n",
        "output = vocab_dict.read()\n",
        "print(output)"
      ]
    },
    {
      "cell_type": "markdown",
      "metadata": {
        "id": "uy14BklLqUWQ"
      },
      "source": [
        "Todo: Read about tokenization\n",
        "\n",
        "unk_token => Unknown Token inorder to be converted to an ID\n",
        "pad_token => Padding Token\n"
      ]
    },
    {
      "cell_type": "code",
      "execution_count": null,
      "metadata": {
        "id": "T9fk4dm4o3bw"
      },
      "outputs": [],
      "source": [
        "from transformers import Wav2Vec2CTCTokenizer\n",
        "\n",
        "tokenizer = Wav2Vec2CTCTokenizer(\"vocab.json\", unk_token=\"[UNK]\", pad_token=\"[PAD]\", word_delimiter_token=\"|\")"
      ]
    }
  ],
  "metadata": {
    "colab": {
      "name": "NASR.ipynb",
      "provenance": []
    },
    "kernelspec": {
      "display_name": "Python 3.8.5 ('.aivenv')",
      "language": "python",
      "name": "python3"
    },
    "language_info": {
      "codemirror_mode": {
        "name": "ipython",
        "version": 3
      },
      "file_extension": ".py",
      "mimetype": "text/x-python",
      "name": "python",
      "nbconvert_exporter": "python",
      "pygments_lexer": "ipython3",
      "version": "3.8.5"
    },
    "vscode": {
      "interpreter": {
        "hash": "a6aa66c812e617fe7a976665f04a60359ca2a7b0fa520cb928d0804dda4cd71e"
      }
    }
  },
  "nbformat": 4,
  "nbformat_minor": 0
}
