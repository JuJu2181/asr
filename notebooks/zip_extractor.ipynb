{
  "nbformat": 4,
  "nbformat_minor": 0,
  "metadata": {
    "colab": {
      "provenance": []
    },
    "kernelspec": {
      "name": "python3",
      "display_name": "Python 3"
    },
    "language_info": {
      "name": "python"
    }
  },
  "cells": [
    {
      "cell_type": "markdown",
      "source": [
        "## Zip Extractor"
      ],
      "metadata": {
        "id": "fORHIOB5ISkG"
      }
    },
    {
      "cell_type": "markdown",
      "source": [
        "Mount the google drive "
      ],
      "metadata": {
        "id": "tV3rw84BIOms"
      }
    },
    {
      "cell_type": "code",
      "execution_count": 1,
      "metadata": {
        "colab": {
          "base_uri": "https://localhost:8080/"
        },
        "id": "sKxEjcIcGwfI",
        "outputId": "af6582c9-2f13-4817-eba5-96e2523547b9"
      },
      "outputs": [
        {
          "output_type": "stream",
          "name": "stdout",
          "text": [
            "Mounted at /content/drive\n"
          ]
        }
      ],
      "source": [
        "from google.colab import drive \n",
        "drive.mount('/content/drive')"
      ]
    },
    {
      "cell_type": "markdown",
      "source": [
        "Source Zip file to extract"
      ],
      "metadata": {
        "id": "7OjAh04_IMgM"
      }
    },
    {
      "cell_type": "code",
      "source": [
        "filepath = input('Enter the path to zip file to extract')"
      ],
      "metadata": {
        "colab": {
          "base_uri": "https://localhost:8080/"
        },
        "id": "w7G6SdHYG2m9",
        "outputId": "e22630af-4aac-45ce-ac53-a832beb97164"
      },
      "execution_count": 2,
      "outputs": [
        {
          "name": "stdout",
          "output_type": "stream",
          "text": [
            "Enter the path to zip file to extract/content/drive/MyDrive/DL/Course.zip\n"
          ]
        }
      ]
    },
    {
      "cell_type": "markdown",
      "source": [
        "Destination Path"
      ],
      "metadata": {
        "id": "glZFwtH2ILP-"
      }
    },
    {
      "cell_type": "code",
      "source": [
        "dest_path = '/content/drive/MyDrive/DL'"
      ],
      "metadata": {
        "id": "EBseGr7DHbMU"
      },
      "execution_count": 5,
      "outputs": []
    },
    {
      "cell_type": "markdown",
      "source": [
        "Extract the zip file to destination"
      ],
      "metadata": {
        "id": "Z6f-dSBPII8l"
      }
    },
    {
      "cell_type": "code",
      "source": [
        "!unzip $filepath -d $dest_path"
      ],
      "metadata": {
        "colab": {
          "base_uri": "https://localhost:8080/"
        },
        "id": "5pNUunAjHHA0",
        "outputId": "764f217f-c605-4e39-9989-b926f3c3826b"
      },
      "execution_count": 6,
      "outputs": [
        {
          "output_type": "stream",
          "name": "stdout",
          "text": [
            "Archive:  /content/drive/MyDrive/DL/Course.zip\n",
            "   creating: /content/drive/MyDrive/DL/Course/\n",
            "   creating: /content/drive/MyDrive/DL/Course/1_Neural_Network/\n",
            "   creating: /content/drive/MyDrive/DL/Course/1_Neural_Network/1_Introduction/\n",
            "   creating: /content/drive/MyDrive/DL/Course/1_Neural_Network/1_Introduction/1_Introduction_to_Module_Neural_Networks/\n",
            "  inflating: /content/drive/MyDrive/DL/Course/1_Neural_Network/1_Introduction/1_Introduction_to_Module_Neural_Networks/Introduction to Module_ Neural Networks.ipynb  \n",
            "  inflating: /content/drive/MyDrive/DL/Course/1_Neural_Network/1_Introduction/1_Introduction_to_Module_Neural_Networks/perceptron_implementation.ipynb  \n",
            "   creating: /content/drive/MyDrive/DL/Course/1_Neural_Network/1_Introduction/2_Computational_Graph_and_Backpropagation/\n",
            "  inflating: /content/drive/MyDrive/DL/Course/1_Neural_Network/1_Introduction/2_Computational_Graph_and_Backpropagation/Read_Computational_Graph_and_Backpropagation.ipynb  \n",
            "   creating: /content/drive/MyDrive/DL/Course/1_Neural_Network/1_Introduction/3_Tensorflow/\n",
            "  inflating: /content/drive/MyDrive/DL/Course/1_Neural_Network/1_Introduction/3_Tensorflow/ANN_in Tensorflow-core.ipynb  \n",
            "  inflating: /content/drive/MyDrive/DL/Course/1_Neural_Network/1_Introduction/3_Tensorflow/ANN_in Tensorflow-keras.ipynb  \n",
            "  inflating: /content/drive/MyDrive/DL/Course/1_Neural_Network/1_Introduction/3_Tensorflow/Introduction to Tensorflow.ipynb  \n",
            "   creating: /content/drive/MyDrive/DL/Course/1_Neural_Network/1_Introduction/4_PyTorch/\n",
            "  inflating: /content/drive/MyDrive/DL/Course/1_Neural_Network/1_Introduction/4_PyTorch/Basics of Pytorch.ipynb  \n",
            "  inflating: /content/drive/MyDrive/DL/Course/1_Neural_Network/1_Introduction/4_PyTorch/Introduction to PyTorch.ipynb  \n",
            "   creating: /content/drive/MyDrive/DL/Course/1_Neural_Network/2_Activation_Functions/\n",
            "   creating: /content/drive/MyDrive/DL/Course/1_Neural_Network/2_Activation_Functions/1_Activation_Functions/\n",
            "  inflating: /content/drive/MyDrive/DL/Course/1_Neural_Network/2_Activation_Functions/1_Activation_Functions/Read_ Activation Functions.ipynb  \n",
            "   creating: /content/drive/MyDrive/DL/Course/1_Neural_Network/3_Weight_Initialization/\n",
            "   creating: /content/drive/MyDrive/DL/Course/1_Neural_Network/3_Weight_Initialization/1_Weights_Initialization_Recap/\n",
            "  inflating: /content/drive/MyDrive/DL/Course/1_Neural_Network/3_Weight_Initialization/1_Weights_Initialization_Recap/Read_ Weight_initialisation_recap.ipynb  \n",
            "   creating: /content/drive/MyDrive/DL/Course/1_Neural_Network/3_Weight_Initialization/2_Xavier_Initialization/\n",
            "  inflating: /content/drive/MyDrive/DL/Course/1_Neural_Network/3_Weight_Initialization/2_Xavier_Initialization/Xavier Initialization.ipynb  \n",
            "   creating: /content/drive/MyDrive/DL/Course/1_Neural_Network/3_Weight_Initialization/3_He_and_LeCun_initialization/\n",
            "  inflating: /content/drive/MyDrive/DL/Course/1_Neural_Network/3_Weight_Initialization/3_He_and_LeCun_initialization/He and LeCun Initialization.ipynb  \n",
            "   creating: /content/drive/MyDrive/DL/Course/1_Neural_Network/4_Optimization_Methods/\n",
            "   creating: /content/drive/MyDrive/DL/Course/1_Neural_Network/4_Optimization_Methods/1_SGD_with_momentum/\n",
            "  inflating: /content/drive/MyDrive/DL/Course/1_Neural_Network/4_Optimization_Methods/1_SGD_with_momentum/SGD with Momentum.ipynb  \n",
            "   creating: /content/drive/MyDrive/DL/Course/1_Neural_Network/4_Optimization_Methods/2_Adagrad/\n",
            "  inflating: /content/drive/MyDrive/DL/Course/1_Neural_Network/4_Optimization_Methods/2_Adagrad/Read_Adagrad_Optimizer.ipynb  \n",
            "   creating: /content/drive/MyDrive/DL/Course/1_Neural_Network/4_Optimization_Methods/3_RMSprop/\n",
            "  inflating: /content/drive/MyDrive/DL/Course/1_Neural_Network/4_Optimization_Methods/3_RMSprop/Read _ RMSprop.ipynb  \n",
            "   creating: /content/drive/MyDrive/DL/Course/1_Neural_Network/4_Optimization_Methods/4_Adam_optimizer/\n",
            "  inflating: /content/drive/MyDrive/DL/Course/1_Neural_Network/4_Optimization_Methods/4_Adam_optimizer/my_notes.md  \n",
            "  inflating: /content/drive/MyDrive/DL/Course/1_Neural_Network/4_Optimization_Methods/4_Adam_optimizer/Read_Adagrad_Optimizer.ipynb  \n",
            "   creating: /content/drive/MyDrive/DL/Course/1_Neural_Network/4_Optimization_Methods/5_Optimization_methods_in_a_nutshell/\n",
            "  inflating: /content/drive/MyDrive/DL/Course/1_Neural_Network/4_Optimization_Methods/5_Optimization_methods_in_a_nutshell/Read _ Optimization methods in a nutshell.ipynb  \n",
            "   creating: /content/drive/MyDrive/DL/Course/1_Neural_Network/5_Normalization/\n",
            "   creating: /content/drive/MyDrive/DL/Course/1_Neural_Network/5_Normalization/1_Standarization_and_Min_Max_Normalization/\n",
            "  inflating: /content/drive/MyDrive/DL/Course/1_Neural_Network/5_Normalization/1_Standarization_and_Min_Max_Normalization/afternormalized3.jpg  \n",
            "  inflating: /content/drive/MyDrive/DL/Course/1_Neural_Network/5_Normalization/1_Standarization_and_Min_Max_Normalization/original3.png  \n",
            "  inflating: /content/drive/MyDrive/DL/Course/1_Neural_Network/5_Normalization/1_Standarization_and_Min_Max_Normalization/Standarization and Min-Max normalization.ipynb  \n",
            "   creating: /content/drive/MyDrive/DL/Course/1_Neural_Network/5_Normalization/2_Batch_Normalization/\n",
            "  inflating: /content/drive/MyDrive/DL/Course/1_Neural_Network/5_Normalization/2_Batch_Normalization/BatchNormalization.ipynb  \n",
            "   creating: /content/drive/MyDrive/DL/Course/1_Neural_Network/5_Normalization/2_Batch_Normalization/data/\n",
            "   creating: /content/drive/MyDrive/DL/Course/1_Neural_Network/5_Normalization/2_Batch_Normalization/data/FashionMNIST/\n",
            "   creating: /content/drive/MyDrive/DL/Course/1_Neural_Network/5_Normalization/2_Batch_Normalization/data/FashionMNIST/raw/\n",
            "  inflating: /content/drive/MyDrive/DL/Course/1_Neural_Network/5_Normalization/2_Batch_Normalization/data/FashionMNIST/raw/t10k-images-idx3-ubyte  \n",
            " extracting: /content/drive/MyDrive/DL/Course/1_Neural_Network/5_Normalization/2_Batch_Normalization/data/FashionMNIST/raw/t10k-images-idx3-ubyte.gz  \n",
            "  inflating: /content/drive/MyDrive/DL/Course/1_Neural_Network/5_Normalization/2_Batch_Normalization/data/FashionMNIST/raw/t10k-labels-idx1-ubyte  \n",
            " extracting: /content/drive/MyDrive/DL/Course/1_Neural_Network/5_Normalization/2_Batch_Normalization/data/FashionMNIST/raw/t10k-labels-idx1-ubyte.gz  \n",
            "  inflating: /content/drive/MyDrive/DL/Course/1_Neural_Network/5_Normalization/2_Batch_Normalization/data/FashionMNIST/raw/train-images-idx3-ubyte  \n",
            " extracting: /content/drive/MyDrive/DL/Course/1_Neural_Network/5_Normalization/2_Batch_Normalization/data/FashionMNIST/raw/train-images-idx3-ubyte.gz  \n",
            "  inflating: /content/drive/MyDrive/DL/Course/1_Neural_Network/5_Normalization/2_Batch_Normalization/data/FashionMNIST/raw/train-labels-idx1-ubyte  \n",
            " extracting: /content/drive/MyDrive/DL/Course/1_Neural_Network/5_Normalization/2_Batch_Normalization/data/FashionMNIST/raw/train-labels-idx1-ubyte.gz  \n",
            "   creating: /content/drive/MyDrive/DL/Course/1_Neural_Network/5_Normalization/3_Layer_Normalization/\n",
            "  inflating: /content/drive/MyDrive/DL/Course/1_Neural_Network/5_Normalization/3_Layer_Normalization/LayerNormalization.ipynb  \n",
            "   creating: /content/drive/MyDrive/DL/Course/1_Neural_Network/6_Regularization/\n",
            "   creating: /content/drive/MyDrive/DL/Course/1_Neural_Network/6_Regularization/1_L1_and_L2_regularization_dropout_and_data_augmentation/\n",
            "  inflating: /content/drive/MyDrive/DL/Course/1_Neural_Network/6_Regularization/1_L1_and_L2_regularization_dropout_and_data_augmentation/Recap on L1 and L2 regularization, Dropout and Data Augmentation.ipynb  \n",
            "   creating: /content/drive/MyDrive/DL/Course/1_Neural_Network/6_Regularization/2_Early_Stopping/\n",
            "  inflating: /content/drive/MyDrive/DL/Course/1_Neural_Network/6_Regularization/2_Early_Stopping/loss_plot.png  \n",
            "  inflating: /content/drive/MyDrive/DL/Course/1_Neural_Network/6_Regularization/2_Early_Stopping/Read _ Early Stopping.ipynb  \n",
            "   creating: /content/drive/MyDrive/DL/Course/1_Neural_Network/6_Regularization/3_Weight_Decay/\n",
            "  inflating: /content/drive/MyDrive/DL/Course/1_Neural_Network/6_Regularization/3_Weight_Decay/Read _ Weight Decay.ipynb  \n",
            "   creating: /content/drive/MyDrive/DL/Course/1_Neural_Network/7_Hyperparameter_Tuning/\n",
            "   creating: /content/drive/MyDrive/DL/Course/1_Neural_Network/7_Hyperparameter_Tuning/1_Learning_rate_scheduling/\n",
            "   creating: /content/drive/MyDrive/DL/Course/1_Neural_Network/7_Hyperparameter_Tuning/1_Learning_rate_scheduling/data/\n",
            "   creating: /content/drive/MyDrive/DL/Course/1_Neural_Network/7_Hyperparameter_Tuning/1_Learning_rate_scheduling/data/FashionMNIST/\n",
            "   creating: /content/drive/MyDrive/DL/Course/1_Neural_Network/7_Hyperparameter_Tuning/1_Learning_rate_scheduling/data/FashionMNIST/raw/\n",
            "  inflating: /content/drive/MyDrive/DL/Course/1_Neural_Network/7_Hyperparameter_Tuning/1_Learning_rate_scheduling/data/FashionMNIST/raw/t10k-images-idx3-ubyte  \n",
            " extracting: /content/drive/MyDrive/DL/Course/1_Neural_Network/7_Hyperparameter_Tuning/1_Learning_rate_scheduling/data/FashionMNIST/raw/t10k-images-idx3-ubyte.gz  \n",
            "  inflating: /content/drive/MyDrive/DL/Course/1_Neural_Network/7_Hyperparameter_Tuning/1_Learning_rate_scheduling/data/FashionMNIST/raw/t10k-labels-idx1-ubyte  \n",
            " extracting: /content/drive/MyDrive/DL/Course/1_Neural_Network/7_Hyperparameter_Tuning/1_Learning_rate_scheduling/data/FashionMNIST/raw/t10k-labels-idx1-ubyte.gz  \n",
            "  inflating: /content/drive/MyDrive/DL/Course/1_Neural_Network/7_Hyperparameter_Tuning/1_Learning_rate_scheduling/data/FashionMNIST/raw/train-images-idx3-ubyte  \n",
            " extracting: /content/drive/MyDrive/DL/Course/1_Neural_Network/7_Hyperparameter_Tuning/1_Learning_rate_scheduling/data/FashionMNIST/raw/train-images-idx3-ubyte.gz  \n",
            "  inflating: /content/drive/MyDrive/DL/Course/1_Neural_Network/7_Hyperparameter_Tuning/1_Learning_rate_scheduling/data/FashionMNIST/raw/train-labels-idx1-ubyte  \n",
            " extracting: /content/drive/MyDrive/DL/Course/1_Neural_Network/7_Hyperparameter_Tuning/1_Learning_rate_scheduling/data/FashionMNIST/raw/train-labels-idx1-ubyte.gz  \n",
            "  inflating: /content/drive/MyDrive/DL/Course/1_Neural_Network/7_Hyperparameter_Tuning/1_Learning_rate_scheduling/Learning_Rate_Scheduling.ipynb  \n",
            "   creating: /content/drive/MyDrive/DL/Course/1_Neural_Network/7_Hyperparameter_Tuning/2_Search/\n",
            "   creating: /content/drive/MyDrive/DL/Course/1_Neural_Network/7_Hyperparameter_Tuning/2_Search/data/\n",
            "   creating: /content/drive/MyDrive/DL/Course/1_Neural_Network/7_Hyperparameter_Tuning/2_Search/data/MNIST/\n",
            "   creating: /content/drive/MyDrive/DL/Course/1_Neural_Network/7_Hyperparameter_Tuning/2_Search/data/MNIST/raw/\n",
            "  inflating: /content/drive/MyDrive/DL/Course/1_Neural_Network/7_Hyperparameter_Tuning/2_Search/data/MNIST/raw/t10k-images-idx3-ubyte  \n",
            " extracting: /content/drive/MyDrive/DL/Course/1_Neural_Network/7_Hyperparameter_Tuning/2_Search/data/MNIST/raw/t10k-images-idx3-ubyte.gz  \n",
            "  inflating: /content/drive/MyDrive/DL/Course/1_Neural_Network/7_Hyperparameter_Tuning/2_Search/data/MNIST/raw/t10k-labels-idx1-ubyte  \n",
            " extracting: /content/drive/MyDrive/DL/Course/1_Neural_Network/7_Hyperparameter_Tuning/2_Search/data/MNIST/raw/t10k-labels-idx1-ubyte.gz  \n",
            "  inflating: /content/drive/MyDrive/DL/Course/1_Neural_Network/7_Hyperparameter_Tuning/2_Search/data/MNIST/raw/train-images-idx3-ubyte  \n",
            " extracting: /content/drive/MyDrive/DL/Course/1_Neural_Network/7_Hyperparameter_Tuning/2_Search/data/MNIST/raw/train-images-idx3-ubyte.gz  \n",
            "  inflating: /content/drive/MyDrive/DL/Course/1_Neural_Network/7_Hyperparameter_Tuning/2_Search/data/MNIST/raw/train-labels-idx1-ubyte  \n",
            " extracting: /content/drive/MyDrive/DL/Course/1_Neural_Network/7_Hyperparameter_Tuning/2_Search/data/MNIST/raw/train-labels-idx1-ubyte.gz  \n",
            "  inflating: /content/drive/MyDrive/DL/Course/1_Neural_Network/7_Hyperparameter_Tuning/2_Search/Search.ipynb  \n",
            "   creating: /content/drive/MyDrive/DL/Course/1_Neural_Network/7_Hyperparameter_Tuning/3_Hyperparameter_Tuning_Heriustics/\n",
            "  inflating: /content/drive/MyDrive/DL/Course/1_Neural_Network/7_Hyperparameter_Tuning/3_Hyperparameter_Tuning_Heriustics/Hyperparameter_Tuning_Heriustics.ipynb  \n",
            "   creating: /content/drive/MyDrive/DL/Course/2_Convolutional_Neural_Networks/\n",
            "   creating: /content/drive/MyDrive/DL/Course/2_Convolutional_Neural_Networks/1_Building_Blocks_of_CNN/\n",
            "   creating: /content/drive/MyDrive/DL/Course/2_Convolutional_Neural_Networks/1_Building_Blocks_of_CNN/1_Forward_prop_in_CNN/\n",
            "  inflating: /content/drive/MyDrive/DL/Course/2_Convolutional_Neural_Networks/1_Building_Blocks_of_CNN/1_Forward_prop_in_CNN/Read_ Forward Propogation in CNN (1).ipynb  \n",
            "   creating: /content/drive/MyDrive/DL/Course/2_Convolutional_Neural_Networks/1_Building_Blocks_of_CNN/2_Backward_prop_in_Convolutional_layer/\n",
            "  inflating: /content/drive/MyDrive/DL/Course/2_Convolutional_Neural_Networks/1_Building_Blocks_of_CNN/2_Backward_prop_in_Convolutional_layer/Read_ Backpropagation in CNN (1).ipynb  \n",
            "   creating: /content/drive/MyDrive/DL/Course/2_Convolutional_Neural_Networks/1_Building_Blocks_of_CNN/3_Forward_and_backprop_in_Pooling_layers/\n",
            "  inflating: /content/drive/MyDrive/DL/Course/2_Convolutional_Neural_Networks/1_Building_Blocks_of_CNN/3_Forward_and_backprop_in_Pooling_layers/Read_Pooling_in_CNN.ipynb  \n",
            "   creating: /content/drive/MyDrive/DL/Course/2_Convolutional_Neural_Networks/2_Seminal_Architectures/\n",
            "   creating: /content/drive/MyDrive/DL/Course/2_Convolutional_Neural_Networks/2_Seminal_Architectures/1_VGG/\n",
            "  inflating: /content/drive/MyDrive/DL/Course/2_Convolutional_Neural_Networks/2_Seminal_Architectures/1_VGG/Read_ VGG Net Architecture (1).ipynb  \n",
            "   creating: /content/drive/MyDrive/DL/Course/2_Convolutional_Neural_Networks/2_Seminal_Architectures/2_ResNet/\n",
            "  inflating: /content/drive/MyDrive/DL/Course/2_Convolutional_Neural_Networks/2_Seminal_Architectures/2_ResNet/Read_ ResNet (1).ipynb  \n",
            "  inflating: /content/drive/MyDrive/DL/Course/2_Convolutional_Neural_Networks/2_Seminal_Architectures/2_ResNet/Simple functionProgramming_ ResNet(pytorch).ipynb  \n",
            "  inflating: /content/drive/MyDrive/DL/Course/2_Convolutional_Neural_Networks/2_Seminal_Architectures/2_ResNet/Simple functionProgramming_ ResNet(tensorflow).ipynb  \n",
            "  inflating: /content/drive/MyDrive/DL/Course/2_Convolutional_Neural_Networks/2_Seminal_Architectures/2_ResNet/Subclassing_Programming_ ResNet(pytorch).ipynb  \n",
            "  inflating: /content/drive/MyDrive/DL/Course/2_Convolutional_Neural_Networks/2_Seminal_Architectures/2_ResNet/Subclassing_Programming_ ResNet(tensorflow).ipynb  \n",
            "   creating: /content/drive/MyDrive/DL/Course/2_Convolutional_Neural_Networks/2_Seminal_Architectures/3_InceptionNet/\n",
            "  inflating: /content/drive/MyDrive/DL/Course/2_Convolutional_Neural_Networks/2_Seminal_Architectures/3_InceptionNet/Read_InceptionNet.ipynb  \n",
            "   creating: /content/drive/MyDrive/DL/Course/3_Recurrent_Neural_Networks/\n",
            "   creating: /content/drive/MyDrive/DL/Course/3_Recurrent_Neural_Networks/1_Introduction_to_RNN/\n",
            "   creating: /content/drive/MyDrive/DL/Course/3_Recurrent_Neural_Networks/1_Introduction_to_RNN/1_Vanilla_RNNs/\n",
            "  inflating: /content/drive/MyDrive/DL/Course/3_Recurrent_Neural_Networks/1_Introduction_to_RNN/1_Vanilla_RNNs/Read_Vanilla_RNN (3).ipynb  \n",
            "   creating: /content/drive/MyDrive/DL/Course/3_Recurrent_Neural_Networks/1_Introduction_to_RNN/2_Backpropagation_through_time(BPTT)/\n",
            "  inflating: /content/drive/MyDrive/DL/Course/3_Recurrent_Neural_Networks/1_Introduction_to_RNN/2_Backpropagation_through_time(BPTT)/Read 1 _ 3.1.2 _ RNN Backpropagation (2).ipynb  \n",
            "   creating: /content/drive/MyDrive/DL/Course/3_Recurrent_Neural_Networks/2_LSTM_and_GRU/\n",
            "   creating: /content/drive/MyDrive/DL/Course/3_Recurrent_Neural_Networks/2_LSTM_and_GRU/1_Computation_for_LSTM/\n",
            "  inflating: /content/drive/MyDrive/DL/Course/3_Recurrent_Neural_Networks/2_LSTM_and_GRU/1_Computation_for_LSTM/Read_Long_Short_Term_Memory (2).ipynb  \n",
            "   creating: /content/drive/MyDrive/DL/Course/3_Recurrent_Neural_Networks/2_LSTM_and_GRU/2_Computation_for_GRU/\n",
            "  inflating: /content/drive/MyDrive/DL/Course/3_Recurrent_Neural_Networks/2_LSTM_and_GRU/2_Computation_for_GRU/Forward_Propagation_and_Computational_Graphs_GRU.ipynb  \n",
            "   creating: /content/drive/MyDrive/DL/Course/3_Recurrent_Neural_Networks/3_CNN_RNN/\n",
            "   creating: /content/drive/MyDrive/DL/Course/3_Recurrent_Neural_Networks/3_CNN_RNN/1_CNN_LSTM/\n",
            "  inflating: /content/drive/MyDrive/DL/Course/3_Recurrent_Neural_Networks/3_CNN_RNN/1_CNN_LSTM/Read_LSTM_CNN (2).ipynb  \n",
            "   creating: /content/drive/MyDrive/DL/Course/4_Attention_and_Neural_Computation/\n",
            "   creating: /content/drive/MyDrive/DL/Course/4_Attention_and_Neural_Computation/1_Neural_Attention/\n",
            "   creating: /content/drive/MyDrive/DL/Course/4_Attention_and_Neural_Computation/1_Neural_Attention/1 Encoder Decoder Architectures/\n",
            "  inflating: /content/drive/MyDrive/DL/Course/4_Attention_and_Neural_Computation/1_Neural_Attention/1 Encoder Decoder Architectures/Read_ Sequence-to-Sequence Architectures (1).ipynb  \n",
            "   creating: /content/drive/MyDrive/DL/Course/4_Attention_and_Neural_Computation/1_Neural_Attention/2 Attention/\n",
            "  inflating: /content/drive/MyDrive/DL/Course/4_Attention_and_Neural_Computation/1_Neural_Attention/2 Attention/Read_ Attention (2).ipynb  \n",
            "   creating: /content/drive/MyDrive/DL/Course/4_Attention_and_Neural_Computation/1_Neural_Attention/3 Attention Types/\n",
            "  inflating: /content/drive/MyDrive/DL/Course/4_Attention_and_Neural_Computation/1_Neural_Attention/3 Attention Types/Types_of_Attention (2).ipynb  \n",
            "   creating: /content/drive/MyDrive/DL/Course/4_Attention_and_Neural_Computation/1_Neural_Attention/4 Attention is all you need/\n",
            "  inflating: /content/drive/MyDrive/DL/Course/4_Attention_and_Neural_Computation/1_Neural_Attention/4 Attention is all you need/Read__Attention_is_all_you_need.ipynb  \n",
            "   creating: /content/drive/MyDrive/DL/Course/5_Deep_Unsupervised_Learning/\n",
            "   creating: /content/drive/MyDrive/DL/Course/5_Deep_Unsupervised_Learning/1 Generative/\n",
            "   creating: /content/drive/MyDrive/DL/Course/5_Deep_Unsupervised_Learning/1 Generative/1 Taxonomy/\n",
            "  inflating: /content/drive/MyDrive/DL/Course/5_Deep_Unsupervised_Learning/1 Generative/1 Taxonomy/Read_ Taxonomy (1).ipynb  \n",
            "   creating: /content/drive/MyDrive/DL/Course/5_Deep_Unsupervised_Learning/1 Generative/2 Boltzmann Machines/\n",
            "  inflating: /content/drive/MyDrive/DL/Course/5_Deep_Unsupervised_Learning/1 Generative/2 Boltzmann Machines/Read_ Boltzmann Machines.ipynb  \n",
            "   creating: /content/drive/MyDrive/DL/Course/5_Deep_Unsupervised_Learning/2 Variational/\n",
            "   creating: /content/drive/MyDrive/DL/Course/5_Deep_Unsupervised_Learning/2 Variational/1 AutoEncoders/\n",
            "  inflating: /content/drive/MyDrive/DL/Course/5_Deep_Unsupervised_Learning/2 Variational/1 AutoEncoders/Read_ AutoEncoders (1).ipynb  \n",
            "   creating: /content/drive/MyDrive/DL/Course/5_Deep_Unsupervised_Learning/2 Variational/2 Representation Learning/\n",
            "  inflating: /content/drive/MyDrive/DL/Course/5_Deep_Unsupervised_Learning/2 Variational/2 Representation Learning/Read_ Representation Learning (1).ipynb  \n",
            "   creating: /content/drive/MyDrive/DL/Course/5_Deep_Unsupervised_Learning/2 Variational/3 Variational AutoEncoders/\n",
            "  inflating: /content/drive/MyDrive/DL/Course/5_Deep_Unsupervised_Learning/2 Variational/3 Variational AutoEncoders/Read_ VAE (Part 1).ipynb  \n",
            "  inflating: /content/drive/MyDrive/DL/Course/5_Deep_Unsupervised_Learning/2 Variational/3 Variational AutoEncoders/Read_ VAE (Part 2).ipynb  \n",
            "   creating: /content/drive/MyDrive/DL/Course/5_Deep_Unsupervised_Learning/2 Variational/4 Reparameterization Trick/\n",
            "  inflating: /content/drive/MyDrive/DL/Course/5_Deep_Unsupervised_Learning/2 Variational/4 Reparameterization Trick/Reparameterization Trick(PyTorch) (1).ipynb  \n",
            "   creating: /content/drive/MyDrive/DL/Course/5_Deep_Unsupervised_Learning/3 Generative Adversial Networks/\n",
            "   creating: /content/drive/MyDrive/DL/Course/5_Deep_Unsupervised_Learning/3 Generative Adversial Networks/1 GANs/\n",
            "  inflating: /content/drive/MyDrive/DL/Course/5_Deep_Unsupervised_Learning/3 Generative Adversial Networks/1 GANs/Read_GANs.ipynb  \n",
            "   creating: /content/drive/MyDrive/DL/Course/5_Deep_Unsupervised_Learning/3 Generative Adversial Networks/2 Challenges with GANs/\n",
            "  inflating: /content/drive/MyDrive/DL/Course/5_Deep_Unsupervised_Learning/3 Generative Adversial Networks/2 Challenges with GANs/Read_ Challenges with GANs (1).ipynb  \n",
            "   creating: /content/drive/MyDrive/DL/Course/5_Deep_Unsupervised_Learning/3 Generative Adversial Networks/3 Wasserstein GANs/\n",
            "  inflating: /content/drive/MyDrive/DL/Course/5_Deep_Unsupervised_Learning/3 Generative Adversial Networks/3 Wasserstein GANs/Read_ Wasserstein GAN.txt  \n",
            "   creating: /content/drive/MyDrive/DL/Course/5_Deep_Unsupervised_Learning/3 Generative Adversial Networks/4 DCGAN/\n",
            "  inflating: /content/drive/MyDrive/DL/Course/5_Deep_Unsupervised_Learning/3 Generative Adversial Networks/4 DCGAN/Read_ Deep Convolutional GAN.txt  \n",
            "   creating: /content/drive/MyDrive/DL/Course/5_Deep_Unsupervised_Learning/3 Generative Adversial Networks/5 CGAN/\n",
            "  inflating: /content/drive/MyDrive/DL/Course/5_Deep_Unsupervised_Learning/3 Generative Adversial Networks/5 CGAN/Read_ Conditional GAN.txt  \n",
            "   creating: /content/drive/MyDrive/DL/Course/6_Deep_Reinforcement_Learning/\n",
            "   creating: /content/drive/MyDrive/DL/Course/6_Deep_Reinforcement_Learning/1 Continuous Problems/\n",
            "   creating: /content/drive/MyDrive/DL/Course/6_Deep_Reinforcement_Learning/1 Continuous Problems/1 Introduction to Function Approximation/\n",
            "  inflating: /content/drive/MyDrive/DL/Course/6_Deep_Reinforcement_Learning/1 Continuous Problems/1 Introduction to Function Approximation/Read_ Introduction to function approximation.ipynb  \n",
            "   creating: /content/drive/MyDrive/DL/Course/6_Deep_Reinforcement_Learning/1 Continuous Problems/2 Function Approximation/\n",
            "  inflating: /content/drive/MyDrive/DL/Course/6_Deep_Reinforcement_Learning/1 Continuous Problems/2 Function Approximation/Function Approximation with ANN.ipynb  \n",
            "   creating: /content/drive/MyDrive/DL/Course/6_Deep_Reinforcement_Learning/2 Value Based Methods/\n",
            "   creating: /content/drive/MyDrive/DL/Course/6_Deep_Reinforcement_Learning/2 Value Based Methods/1 DQN/\n",
            "  inflating: /content/drive/MyDrive/DL/Course/6_Deep_Reinforcement_Learning/2 Value Based Methods/1 DQN/Read_Deep_Q_Network.ipynb  \n",
            "   creating: /content/drive/MyDrive/DL/Course/6_Deep_Reinforcement_Learning/2 Value Based Methods/2 Programming Materials for DQN/\n",
            "  inflating: /content/drive/MyDrive/DL/Course/6_Deep_Reinforcement_Learning/2 Value Based Methods/2 Programming Materials for DQN/Programming material for DQN.ipynb  \n",
            "   creating: /content/drive/MyDrive/DL/Course/6_Deep_Reinforcement_Learning/2 Value Based Methods/3 DQN Variants/\n",
            "  inflating: /content/drive/MyDrive/DL/Course/6_Deep_Reinforcement_Learning/2 Value Based Methods/3 DQN Variants/Read_ DQN variants (1).ipynb  \n",
            "   creating: /content/drive/MyDrive/DL/Course/6_Deep_Reinforcement_Learning/3 Policy Based Methods/\n",
            "   creating: /content/drive/MyDrive/DL/Course/6_Deep_Reinforcement_Learning/3 Policy Based Methods/1 Intro to Policy Optimization/\n",
            "  inflating: /content/drive/MyDrive/DL/Course/6_Deep_Reinforcement_Learning/3 Policy Based Methods/1 Intro to Policy Optimization/READ Intro. to Policy Optimization.ipynb  \n",
            "   creating: /content/drive/MyDrive/DL/Course/6_Deep_Reinforcement_Learning/3 Policy Based Methods/2 Policy Gradient Theorem/\n",
            "  inflating: /content/drive/MyDrive/DL/Course/6_Deep_Reinforcement_Learning/3 Policy Based Methods/2 Policy Gradient Theorem/Policy Gradient Theorem.ipynb  \n",
            "   creating: /content/drive/MyDrive/DL/Course/6_Deep_Reinforcement_Learning/3 Policy Based Methods/3 Reinforce Algorithms/\n",
            "  inflating: /content/drive/MyDrive/DL/Course/6_Deep_Reinforcement_Learning/3 Policy Based Methods/3 Reinforce Algorithms/READ REINFORCE Algorithms (1).ipynb  \n",
            "   creating: /content/drive/MyDrive/DL/Course/6_Deep_Reinforcement_Learning/3 Policy Based Methods/4 Trust Region Policy Optimization/\n",
            "  inflating: /content/drive/MyDrive/DL/Course/6_Deep_Reinforcement_Learning/3 Policy Based Methods/4 Trust Region Policy Optimization/READ_Trust_Region_Policy_Optimization.ipynb  \n",
            "   creating: /content/drive/MyDrive/DL/Course/6_Deep_Reinforcement_Learning/3 Policy Based Methods/5 Proximal Policy Optimization/\n",
            "  inflating: /content/drive/MyDrive/DL/Course/6_Deep_Reinforcement_Learning/3 Policy Based Methods/5 Proximal Policy Optimization/READ Proximal Policy Optimization (PPO).ipynb  \n",
            "   creating: /content/drive/MyDrive/DL/Course/6_Deep_Reinforcement_Learning/4 Combining Policy and Value Based Learning/\n",
            "   creating: /content/drive/MyDrive/DL/Course/6_Deep_Reinforcement_Learning/4 Combining Policy and Value Based Learning/1 Actor Critic/\n",
            "  inflating: /content/drive/MyDrive/DL/Course/6_Deep_Reinforcement_Learning/4 Combining Policy and Value Based Learning/1 Actor Critic/Reading_Actor-Critic (1).ipynb  \n",
            "   creating: /content/drive/MyDrive/DL/Course/6_Deep_Reinforcement_Learning/4 Combining Policy and Value Based Learning/2 DDPG/\n",
            "  inflating: /content/drive/MyDrive/DL/Course/6_Deep_Reinforcement_Learning/4 Combining Policy and Value Based Learning/2 DDPG/Reading_DDPG (1).ipynb  \n",
            "   creating: /content/drive/MyDrive/DL/Course/7_Applied_DL/\n",
            "   creating: /content/drive/MyDrive/DL/Course/7_Applied_DL/1 Production Techniques/\n",
            "   creating: /content/drive/MyDrive/DL/Course/7_Applied_DL/1 Production Techniques/1 Serving API Endpoints/\n",
            "  inflating: /content/drive/MyDrive/DL/Course/7_Applied_DL/1 Production Techniques/1 Serving API Endpoints/Read_ Deploying CNN model using Flask(PyTorch) (1).ipynb  \n",
            "  inflating: /content/drive/MyDrive/DL/Course/7_Applied_DL/1 Production Techniques/1 Serving API Endpoints/Read_ Serving Api endpoints (2).ipynb  \n",
            "  inflating: /content/drive/MyDrive/DL/Course/7_Applied_DL/1 Production Techniques/1 Serving API Endpoints/Read_ tf Deploying CNN model using Flask.ipynb  \n",
            "   creating: /content/drive/MyDrive/DL/Course/7_Applied_DL/1 Production Techniques/2 Serving and data pipelines/\n",
            "  inflating: /content/drive/MyDrive/DL/Course/7_Applied_DL/1 Production Techniques/2 Serving and data pipelines/Read_ Serving and Data Pipelines(PyTorch) (2).ipynb  \n",
            "   creating: /content/drive/MyDrive/DL/Course/7_Applied_DL/1 Production Techniques/3 Post Production/\n",
            "  inflating: /content/drive/MyDrive/DL/Course/7_Applied_DL/1 Production Techniques/3 Post Production/Post Production (2).ipynb  \n",
            "   creating: /content/drive/MyDrive/DL/Course/7_Applied_DL/2 Federated Learning/\n",
            "   creating: /content/drive/MyDrive/DL/Course/7_Applied_DL/2 Federated Learning/1 Data Privacy and Concerns/\n",
            "  inflating: /content/drive/MyDrive/DL/Course/7_Applied_DL/2 Federated Learning/1 Data Privacy and Concerns/Data Privacy and Concerns (2).ipynb  \n",
            "   creating: /content/drive/MyDrive/DL/Course/7_Applied_DL/2 Federated Learning/2 Federated Learning/\n",
            "  inflating: /content/drive/MyDrive/DL/Course/7_Applied_DL/2 Federated Learning/2 Federated Learning/Federated Learning (1).ipynb  \n",
            "   creating: /content/drive/MyDrive/DL/Course/7_Applied_DL/2 Federated Learning/3 Practial Federated Learning/\n",
            "  inflating: /content/drive/MyDrive/DL/Course/7_Applied_DL/2 Federated Learning/3 Practial Federated Learning/Federated Learning Implementation(PyTorch) (2).ipynb  \n",
            "   creating: /content/drive/MyDrive/DL/Course/7_Applied_DL/3 Edge Computing/\n",
            "   creating: /content/drive/MyDrive/DL/Course/7_Applied_DL/3 Edge Computing/1 On Device Inference and Edge Computing/\n",
            "  inflating: /content/drive/MyDrive/DL/Course/7_Applied_DL/3 Edge Computing/1 On Device Inference and Edge Computing/Read_ On Device Inference and Edge Computing (3).ipynb  \n",
            "   creating: /content/drive/MyDrive/DL/Course/7_Applied_DL/3 Edge Computing/2 Tensorflow Lite/\n",
            "  inflating: /content/drive/MyDrive/DL/Course/7_Applied_DL/3 Edge Computing/2 Tensorflow Lite/Read_ Tensorflow Lite (1).ipynb  \n",
            "   creating: /content/drive/MyDrive/DL/Course/7_Applied_DL/3 Edge Computing/3 Model Quantization/\n",
            "  inflating: /content/drive/MyDrive/DL/Course/7_Applied_DL/3 Edge Computing/3 Model Quantization/Read_ Model Quantization (2).ipynb  \n",
            "   creating: /content/drive/MyDrive/DL/Course/7_Applied_DL/3 Edge Computing/4 Pytorch Mobile/\n",
            "  inflating: /content/drive/MyDrive/DL/Course/7_Applied_DL/3 Edge Computing/4 Pytorch Mobile/Read_ PyTorch Mobile (2).ipynb  \n",
            "   creating: /content/drive/MyDrive/DL/Course/7_Applied_DL/4 Explainable AI/\n",
            "   creating: /content/drive/MyDrive/DL/Course/7_Applied_DL/4 Explainable AI/1 Interpretability/\n",
            "  inflating: /content/drive/MyDrive/DL/Course/7_Applied_DL/4 Explainable AI/1 Interpretability/Reading Material_ Interpretabiity (2).ipynb  \n",
            "   creating: /content/drive/MyDrive/DL/Course/7_Applied_DL/4 Explainable AI/2 Fairness and Bias/\n",
            "  inflating: /content/drive/MyDrive/DL/Course/7_Applied_DL/4 Explainable AI/2 Fairness and Bias/Read_ Fairness and Bias (2).ipynb  \n",
            "   creating: /content/drive/MyDrive/DL/Course/7_Applied_DL/4 Explainable AI/3 Adversial Attacks/\n",
            "  inflating: /content/drive/MyDrive/DL/Course/7_Applied_DL/4 Explainable AI/3 Adversial Attacks/Adversarial Attack[PyTorch] (2).ipynb  \n",
            "   creating: /content/drive/MyDrive/DL/Course/7_Applied_DL/5 Transfer Learning/\n",
            "   creating: /content/drive/MyDrive/DL/Course/7_Applied_DL/5 Transfer Learning/1 Transfer Learning and Domain Adaption/\n",
            "  inflating: /content/drive/MyDrive/DL/Course/7_Applied_DL/5 Transfer Learning/1 Transfer Learning and Domain Adaption/Read_ Transfer Learning and Domain Adaptation (2).ipynb  \n",
            "   creating: /content/drive/MyDrive/DL/Course/7_Applied_DL/5 Transfer Learning/2 Transductive Transfer Learning/\n",
            "  inflating: /content/drive/MyDrive/DL/Course/7_Applied_DL/5 Transfer Learning/2 Transductive Transfer Learning/Quiz_ Transductive Transfer Learning.ipynb  \n",
            "   creating: /content/drive/MyDrive/DL/Course/7_Applied_DL/5 Transfer Learning/3 Inductive Transfer Learning/\n",
            "  inflating: /content/drive/MyDrive/DL/Course/7_Applied_DL/5 Transfer Learning/3 Inductive Transfer Learning/Read_ Inductive Transfer Learning (2).ipynb  \n",
            "   creating: /content/drive/MyDrive/DL/Course/7_Applied_DL/5 Transfer Learning/4 Application in NLP/\n",
            "  inflating: /content/drive/MyDrive/DL/Course/7_Applied_DL/5 Transfer Learning/4 Application in NLP/Read_ Applications of Transfer Learning in NLP (2).ipynb  \n"
          ]
        }
      ]
    },
    {
      "cell_type": "markdown",
      "source": [
        "Remove the zip file"
      ],
      "metadata": {
        "id": "8gGB1RFRIEOV"
      }
    },
    {
      "cell_type": "code",
      "source": [
        "!rm -rf $filepath"
      ],
      "metadata": {
        "id": "R5agrR83HMnV"
      },
      "execution_count": 9,
      "outputs": []
    },
    {
      "cell_type": "markdown",
      "source": [
        "To save all the changes to drive"
      ],
      "metadata": {
        "id": "Pf-w_DvQIBM8"
      }
    },
    {
      "cell_type": "code",
      "source": [
        "drive.flush_and_unmount()\n",
        "print('All changes made in this colab session should now be visible in Drive.')"
      ],
      "metadata": {
        "colab": {
          "base_uri": "https://localhost:8080/"
        },
        "id": "fz7oh1WLHnNt",
        "outputId": "3269f88e-6dcd-47f7-8fb7-306f7eb9a8d4"
      },
      "execution_count": 10,
      "outputs": [
        {
          "output_type": "stream",
          "name": "stdout",
          "text": [
            "All changes made in this colab session should now be visible in Drive.\n"
          ]
        }
      ]
    },
    {
      "cell_type": "code",
      "source": [],
      "metadata": {
        "id": "HMGg9IWJIX78"
      },
      "execution_count": null,
      "outputs": []
    }
  ]
}