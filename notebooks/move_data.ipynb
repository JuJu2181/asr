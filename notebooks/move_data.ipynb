{
 "cells": [
  {
   "cell_type": "code",
   "execution_count": null,
   "metadata": {},
   "outputs": [],
   "source": [
    "import pandas as pd \n",
    "import os \n",
    "import shutil"
   ]
  },
  {
   "cell_type": "code",
   "execution_count": null,
   "metadata": {},
   "outputs": [],
   "source": [
    "df1 = pd.read_csv('D:\\Programming\\Projects\\major_project\\Codes\\ASR\\data\\\\ne-np\\\\transcript\\\\ne_np_female.csv')\n",
    "df2 = pd.read_csv('D:\\Programming\\Projects\\major_project\\Codes\\ASR\\\\data\\\\5k\\\\transcript\\\\dataset_cleaned_5k.csv',usecols=['filename','text'])\n",
    "df2.rename(columns={\"filename\": \"path\",\"text\":'labels'}, inplace=True)"
   ]
  }
 ],
 "metadata": {
  "kernelspec": {
   "display_name": "Python 3.8.5 ('.aivenv')",
   "language": "python",
   "name": "python3"
  },
  "language_info": {
   "name": "python",
   "version": "3.8.5"
  },
  "orig_nbformat": 4,
  "vscode": {
   "interpreter": {
    "hash": "a6aa66c812e617fe7a976665f04a60359ca2a7b0fa520cb928d0804dda4cd71e"
   }
  }
 },
 "nbformat": 4,
 "nbformat_minor": 2
}
